{
 "nbformat": 4,
 "nbformat_minor": 0,
 "metadata": {
  "colab": {
   "provenance": []
  },
  "kernelspec": {
   "name": "python3",
   "display_name": "Python 3 (ipykernel)",
   "language": "python"
  }
 },
 "cells": [
  {
   "cell_type": "markdown",
   "metadata": {
    "id": "qSmNiRknPfSy"
   },
   "source": [
    "# 생물정보학 및 실습 1 - Term Project용 Mission 3 환경 셋업\n",
    "\n",
    "```\n",
    "생물정보학 및 실습 1\n",
    "서울대학교 생물정보학전공/생명과학부 2025년 1학기\n",
    "\n",
    "이 노트북은 Creative Commons BY-SA 조건으로 재사용 가능합니다.\n",
    "장혜식 <hyeshik@snu.ac.kr>, 서울대학교 생명과학부\n",
    "```\n",
    "\n",
    "이 노트북은 Google Colab을 이용해서 Term Project를 할 수 있도록 환경을 준비해 줍니다. 터미널 사용이 원활하지 않은 상태이고, 데이터를 오랫동안 보관하기 어렵기 때문에 되도록 개인용 컴퓨터에서 [Anaconda](https://www.anaconda.com/)나 [JupyterLab](https://jupyterlab.readthedocs.io/en/stable/) 등을 설치하고 사용하시는 것이 편하지만, 개인용 컴퓨터 사양이 부족한 경우에는 Google CoLab을 사용할 수도 있습니다. 개인용 컴퓨터를 쓸 때는 Windows에서는 [WSL2](https://docs.microsoft.com/en-us/windows/wsl/install-win10)를 쓰시면 리눅스 커맨드라인 환경을 쓸 수 있습니다. Google Colab은 창을 닫은 후 90분 후, 또는 창을 처음 열고 12시간 후에 환경을 닫아버리기 때문에 매번 실습할 때마다 새로 셋업이 필요합니다. `Runtime->Run All`을 실행해서 전체를 한 번 실행하시면 준비됩니다. 모든 것이 잘 안 되고 뭔가 꼬인 느낌이 강하게 들 때는 `Runtime->Factory reset runtime`을 누르고 새로 시작하시면 될 수도 있습니다.\n"
   ]
  },
  {
   "cell_type": "markdown",
   "metadata": {
    "id": "ojAx9SdvPfSz"
   },
   "source": [
    "## Google Drive 마운트\n",
    "\n",
    "데이터 파일들을 불러오고 저장하기 위해서 Google Drive를 연결합니다. **이번엔 스크립트 파일을 편집해야 하기 때문에 Google Drive 마운트를 하지 않으면 vim등 콘솔에서 쓸 수 있는 에디터를 쓰셔야 합니다.** 화면에 나오는 주소를 눌러서 인증하고 인증 코드를 그 아래에 입력하세요. 그러면 `/contents/drive/MyDrive`에서 자신의 Drive 최상단 폴더가 보입니다. Google CoLab에서 접속하지 않고, 본인 컴퓨터 또는 연구실 워크스테이션 등 다른 컴퓨터를 쓰시는 경우에는 저장공간이 충분하므로 이 부분은 생략하고 지나갑니다."
   ]
  },
  {
   "cell_type": "code",
   "metadata": {
    "id": "SbkVVS-CPfSz"
   },
   "source": [
    "from google.colab import drive\n",
    "drive.mount('/content/drive')"
   ],
   "execution_count": null,
   "outputs": []
  },
  {
   "cell_type": "markdown",
   "metadata": {
    "id": "BjtCUaGSPfSz"
   },
   "source": [
    "## 실습용 Bioconda 환경 설치하기\n",
    "Google CoLab에서 접속하지 않고, 본인 컴퓨터 또는 연구실 워크스테이션 등 다른 컴퓨터를 쓰시는 경우에는 따로 실습용 [Bioconda](https://bioconda.github.io/) 환경을 구축해서 이 노트북을 그 환경 안에서 띄우시면 됩니다.\n",
    "\n",
    "CoLab을 쓰시는 분들은 다음에 따라서 실습용 프로그램들을 쉽게 설치할 수 있도록 [Bioconda](https://bioconda.github.io/) 환경을 만듭니다. 실행하고 진행상황을 관찰하다가 에러로 보이는 것이 있으면 잘 읽어보고 해결합니다.\n",
    "\n",
    "파이썬 모듈들은 Colab쪽의 파이썬 인터프리터를 바꿀 수 없기 때문에 Conda에 설치하더라도 사용하기 어렵습니다. 파이썬 모듈은 `pip` 명령어로 설치하시면 Colab에서 불러와서 사용할 수 있습니다.\n",
    "\n",
    "환경 초기화에 관련된 스크립트는 [GitHub 프로젝트](https://github.com/hyeshik/colab-biolab)에 있습니다."
   ]
  },
  {
   "cell_type": "code",
   "metadata": {
    "id": "g-vfGi3ePfSz"
   },
   "source": [
    "!git clone https://github.com/hyeshik/colab-biolab.git\n",
    "!cd colab-biolab && bash tools/setup.sh\n",
    "exec(open('colab-biolab/tools/activate_conda.py').read())"
   ],
   "execution_count": null,
   "outputs": []
  },
  {
   "cell_type": "markdown",
   "metadata": {
    "id": "8A1Qq4AcPfS0"
   },
   "source": [
    "설정이 끝났으면, 이제 콘솔을 열어서 터미널로 접속할 수 있는 통로를 열어줍니다."
   ]
  },
  {
   "cell_type": "markdown",
   "metadata": {
    "id": "etOQJdMTPfS0"
   },
   "source": [
    "## 시퀀싱 데이터 다운로드\n",
    "***첫 실습 시간에 데이터 복사를 마쳤으면 이 부분은 생략하고 지나갑니다.***\n",
    "\n",
    "이제 실습 수업에서 필요한 시퀀싱 데이터를 다운로드 받아서 설치합시다. 드라이브 공간만 충분하면 데이터는 계속 저장돼 있기 때문에 학기 전체를 통해서 딱 한 번만 하시면 됩니다. Colab에서는 작업용 데이터를 Google Drive 폴더 아래의 `binfo-datapack1`에 저장합니다. 실습용 데이터는 `/content/drive/MyDrive/binfo1-datapack1`에 풀리게 됩니다.\n",
    "\n",
    "### (Option 1) Google CoLab에서 접속한 경우\n",
    "1. [Google Drive 공유폴더](https://drive.google.com/drive/folders/1QBJednh-C7A17PFOlpZHBKyDmBvd6klh?usp=sharing)에 접속합니다.\n",
    "1. 중간 제목줄의 \"binfo1-datapack1 ▾\"에서 ▾을 누릅니다.\n",
    "1. Add shortcut to Drive를 누릅니다.\n",
    "1. My Drive를 선택해서 ADD SHORTCUT 버튼을 누릅니다.\n",
    "1. 다음 cell을 실행해서 링크가 제대로 들어왔는지 확인합니다. (바로 확인되지 않으면 3–5분 정도 기다렸다가 하면 됩니다.)\n",
    "1. 제대로 확인되면 다음으로 넘어갑니다.\n"
   ]
  },
  {
   "cell_type": "code",
   "source": [
    "!ls -al /content/drive/MyDrive/binfo1-datapack1/"
   ],
   "metadata": {
    "id": "D24wKYriG8tI"
   },
   "execution_count": null,
   "outputs": []
  },
  {
   "cell_type": "markdown",
   "source": [
    "### (Option 2) CoLab외의 다른 환경에서 접속한 경우\n",
    "본인 컴퓨터나 연구실 워크스테이션 등에서 작업하는 경우에는 다음 명령어로 다운로드 받으시면 됩니다. 첫 번째에는 wget이 접속오류를 내는 경우가 많으니, 접속에러가 발생하면 다시 한 번 실행해 보세요. `/content/drive/Mydrive` 부분은 원하는 저장 경로로 바꿔서 지정하시면 됩니다."
   ],
   "metadata": {
    "id": "OZ0KkKrmG-M4"
   }
  },
  {
   "cell_type": "code",
   "metadata": {
    "id": "rgT10jUOPfS0"
   },
   "source": [
    "!wget -O - --no-check-certificate https://hyeshik.qbio.io/binfo/binfo1-datapack1.tar | tar -C /content/drive/MyDrive -xf -"
   ],
   "execution_count": null,
   "outputs": []
  },
  {
   "cell_type": "markdown",
   "metadata": {
    "id": "BnS18ErRPfS2"
   },
   "source": [
    "### 파일 체크섬 확인\n",
    "***첫 실습 시간에 데이터 복사를 마쳤으면 이 부분은 생략하고 지나갑니다.***\n",
    "\n",
    "받은 데이터의 MD5 체크섬을 확인합니다. 한참 걸립니다. 각 파일들의 원래 체크섬은 다음과 같습니다. 한 번 비교해 보세요.\n",
    "\n",
    "```\n",
    "140aaf30bcb9276cc716f8699f04ddd6  CLIP-35L33G.bam\n",
    "f1b3336ed7e2f97d562dcc71641251bd  CLIP-35L33G.bam.bai\n",
    "328883a73d507eafbf5b60bd6b906201  RNA-control.bam\n",
    "02073818e2f398a73c3b76e5169de1ca  RNA-control.bam.bai\n",
    "b09550d09d6c2a4ce27f0226f426fdb1  RNA-siLin28a.bam\n",
    "fef112c727244060ea62d3f2564a07f6  RNA-siLin28a.bam.bai\n",
    "28bbd0c47d725669340c784f1b772c01  RNA-siLuc.bam\n",
    "43590fdc4d81905c0432e0d1cb8cfd5b  RNA-siLuc.bam.bai\n",
    "5c08a9297307bc83259e658c4474f0cc  RPF-siLin28a.bam\n",
    "a1bb3e29be412dfd7fd8d16b1b1acc4c  RPF-siLin28a.bam.bai\n",
    "f2eebf50943024d0116c9cd3e744c707  RPF-siLuc.bam\n",
    "dc24f69e8f571fc8be30f28ce5b84fcd  RPF-siLuc.bam.bai\n",
    "```"
   ]
  },
  {
   "cell_type": "code",
   "metadata": {
    "id": "6wOX9pzSPfS2"
   },
   "source": [
    "!md5sum drive/MyDrive/binfo1-datapack1/*"
   ],
   "execution_count": null,
   "outputs": []
  },
  {
   "cell_type": "code",
   "source": [
    "!ls -al drive/MyDrive/binfo*"
   ],
   "metadata": {
    "id": "-TbxufDhch1f"
   },
   "execution_count": null,
   "outputs": []
  },
  {
   "cell_type": "markdown",
   "source": [
    "# 파일 복사하기\n",
    "***첫 실습 시간에 데이터 복사를 마쳤으면 이 부분은 생략하고 지나갑니다.***\n",
    "\n",
    "공유한 폴더를 나의 작업 폴더로 복사합니다."
   ],
   "metadata": {
    "id": "TYffnLRpcmSn"
   }
  },
  {
   "cell_type": "code",
   "source": [
    "!mkdir -p /content/drive/MyDrive/binfo1-work\n",
    "%cd /content/drive/MyDrive/binfo1-work\n",
    "!cp ../binfo1-datapack1/* ."
   ],
   "metadata": {
    "id": "mDgKA0xGco6G"
   },
   "execution_count": null,
   "outputs": []
  },
  {
   "cell_type": "markdown",
   "metadata": {
    "id": "ecEA1PPQUlIK"
   },
   "source": [
    "# 프로그램 설치\n",
    "**첫 실습 시간에 데이터 복사를 마쳤으면 여기부터 시작합니다.**\n",
    "\n",
    "데이터 준비가 끝났으면, 이제 이번 시간 실습에 필요한 프로그램들 몇 가지를 추가로 설치합니다."
   ]
  },
  {
   "cell_type": "code",
   "metadata": {
    "id": "neteyWsWEKBy"
   },
   "source": [
    "!conda install -y bedtools bioawk samtools"
   ],
   "execution_count": null,
   "outputs": []
  },
  {
   "cell_type": "markdown",
   "metadata": {
    "id": "Oe_54MZrEi4y"
   },
   "source": [
    "## Mission 3\n",
    "\n",
    "이번 미션에서는 Figure S2A 아랫쪽에 표시되는 clustered error 분석 (CIMS; Crosslinking-induced mutation sites)을 합니다. 자외선에 의해서 단백질이 붙어있다가 단백질 분해효소로 단백질을 뜯어내고 남은 자리에서는 reverse-transcriptase가 오류를 자주 냅니다. 오류율을 분석해서 단백질이 앉아 있었던 자리를 분석해 봅시다.\n",
    "\n",
    "데이터는 지난 번과 동일하기 때문에 이미 다운로드 받으셨다면 다시 다운로드 받을 필요는 없습니다."
   ]
  },
  {
   "cell_type": "code",
   "metadata": {
    "id": "IANz6DmLUkA6",
    "ExecuteTime": {
     "end_time": "2025-05-21T12:17:34.953903Z",
     "start_time": "2025-05-21T12:17:34.949824Z"
    }
   },
   "source": "%cd /Users/rimi/Projects/binfo1_A/binfo1-work/",
   "outputs": [
    {
     "name": "stdout",
     "output_type": "stream",
     "text": [
      "/Users/rimi/Projects/binfo1_A/binfo1-work\n"
     ]
    }
   ],
   "execution_count": 1
  },
  {
   "cell_type": "markdown",
   "metadata": {
    "id": "CMMDdHgyJAB1"
   },
   "source": [
    "Genome 전체로 계산하는 방법은 자원도 꽤 쓰고 시간이 걸리기 때문에 여기서는 유전자 단위로 간략하게 하도록 합시다. 예시로 Mirlet7g를 해 보고, 추가로 Mirlet7f-1과 Mirlet7d도 봐서 비교해 봅시다.\n",
    "\n",
    "논문은 예전 레퍼런스 유전체인 mm9을 쓰고 있기 때문에, 현재 사용되는 레퍼런스 mm39와는 좌표계에 차이가 있습니다. 새로 annotation에서 위치를 찾습니다."
   ]
  },
  {
   "cell_type": "code",
   "metadata": {
    "id": "sumX23OcI_fl",
    "ExecuteTime": {
     "end_time": "2025-05-21T12:18:25.521950Z",
     "start_time": "2025-05-21T12:18:15.600410Z"
    }
   },
   "source": "!grep -i mirlet7g ../colab-biolab/binfo1-datapack1/gencode.gtf",
   "outputs": [
    {
     "name": "stdout",
     "output_type": "stream",
     "text": [
      "chr9\tENSEMBL\tgene\t106056039\t106056126\t.\t+\t.\tgene_id \"ENSMUSG00000065440.3\"; gene_type \"miRNA\"; gene_name \"Mirlet7g\"; level 3; mgi_id \"MGI:2676800\";\r\n",
      "chr9\tENSEMBL\ttranscript\t106056039\t106056126\t.\t+\t.\tgene_id \"ENSMUSG00000065440.3\"; transcript_id \"ENSMUST00000083506.3\"; gene_type \"miRNA\"; gene_name \"Mirlet7g\"; transcript_type \"miRNA\"; transcript_name \"Mirlet7g-201\"; level 3; transcript_support_level \"NA\"; mgi_id \"MGI:2676800\"; tag \"basic\";\r\n",
      "chr9\tENSEMBL\texon\t106056039\t106056126\t.\t+\t.\tgene_id \"ENSMUSG00000065440.3\"; transcript_id \"ENSMUST00000083506.3\"; gene_type \"miRNA\"; gene_name \"Mirlet7g\"; transcript_type \"miRNA\"; transcript_name \"Mirlet7g-201\"; exon_number 1; exon_id \"ENSMUSE00000522665.2\"; level 3; transcript_support_level \"NA\"; mgi_id \"MGI:2676800\"; tag \"basic\";\r\n"
     ]
    }
   ],
   "execution_count": 2
  },
  {
   "cell_type": "markdown",
   "source": [
    "위 결과에서 gtf 파일이 없다고 나오면 압축이 풀리지 않은 상태일 수 있으니, 미리 풀어서 작업해보세요."
   ],
   "metadata": {
    "id": "1FSyRKOGK9Ur"
   }
  },
  {
   "cell_type": "markdown",
   "metadata": {
    "id": "iB_C8P1fJkNE"
   },
   "source": [
    "Splicing 되지 않는 transcript이기 때문에 결과가 단조롭습니다. 해당 좌표 범위로 bam을 솎아냅니다."
   ]
  },
  {
   "cell_type": "code",
   "metadata": {
    "id": "opqsj9vNIL-z",
    "ExecuteTime": {
     "end_time": "2025-05-21T12:18:46.444728Z",
     "start_time": "2025-05-21T12:18:46.102754Z"
    }
   },
   "source": [
    "!samtools view -b -o CLIP-let7g.bam ../colab-biolab/binfo1-datapack1/CLIP-35L33G.bam chr9:106056039-106056126\n",
    "!samtools view CLIP-let7g.bam | wc -l"
   ],
   "outputs": [
    {
     "name": "stdout",
     "output_type": "stream",
     "text": [
      "     163\r\n"
     ]
    }
   ],
   "execution_count": 3
  },
  {
   "cell_type": "markdown",
   "metadata": {
    "id": "baEtdt6aJ12N"
   },
   "source": [
    "각 자리에 mapping된 read들의 분포를 요약하기 위해 samtools mpileup을 이용합니다. Shannon entropy를 구할 때는 reference를 따로 줄 필요는 없습니다. samtools를 쓰지 않고 직접 read를 분석하면 더욱 더 재미있습니다."
   ]
  },
  {
   "cell_type": "code",
   "metadata": {
    "id": "5_RLXcMpIL8J",
    "ExecuteTime": {
     "end_time": "2025-05-21T12:18:53.582127Z",
     "start_time": "2025-05-21T12:18:53.293326Z"
    }
   },
   "source": [
    "!samtools mpileup CLIP-let7g.bam > CLIP-let7g.pileup\n",
    "!wc -l CLIP-let7g.pileup"
   ],
   "outputs": [
    {
     "name": "stdout",
     "output_type": "stream",
     "text": [
      "[mpileup] 1 samples in 1 input files\r\n",
      "<mpileup> Set max per-file depth to 8000\r\n",
      "   68548 CLIP-let7g.pileup\r\n"
     ]
    }
   ],
   "execution_count": 4
  },
  {
   "cell_type": "markdown",
   "metadata": {
    "id": "Xuzv5lSEKVoG"
   },
   "source": [
    "Mirlet7g는 100bp도 안 되는 짧은 gene인데 `mpileup` 결과는 엄청 길게 나옵니다. 왜 그럴까요? (잘 한 번 생각해 봅시다)"
   ]
  },
  {
   "cell_type": "markdown",
   "metadata": {
    "id": "hpC-bsZEKozF"
   },
   "source": "이제 Mirlet7g의 핵심부분을 살펴봐서 어떻게 하면 좋을지 견적을 내 봅니다."
  },
  {
   "cell_type": "code",
   "metadata": {
    "id": "1WulVeZqIL5W",
    "ExecuteTime": {
     "end_time": "2025-05-21T12:19:08.833448Z",
     "start_time": "2025-05-21T12:19:08.705336Z"
    }
   },
   "source": [
    "!head CLIP-let7g.pileup"
   ],
   "outputs": [
    {
     "name": "stdout",
     "output_type": "stream",
     "text": [
      "chr9\t106007092\tN\t9\t^Ga^Ia^Ha^Ia^Ga^Ga^Ha^Ia^Ia\t<IFIGGHII\r\n",
      "chr9\t106007093\tN\t9\tggggggggg\tAFGIEGDII\r\n",
      "chr9\t106007094\tN\t9\tccccccccc\tEHHIGAFEH\r\n",
      "chr9\t106007095\tN\t9\taaaaaaaaa\t?HDIFA>II\r\n",
      "chr9\t106007096\tN\t9\taaaaaaaaa\tEHHIG@CHH\r\n",
      "chr9\t106007097\tN\t9\tttttttttt\t=HGEGDFII\r\n",
      "chr9\t106007098\tN\t9\taaaaaaaaa\t?HHIGDEII\r\n",
      "chr9\t106007099\tN\t9\tg-2nng-2nng-2nng-2nng-2nng-2nng-2nng-2nng-2nn\t?IEHGEDII\r\n",
      "chr9\t106007100\tN\t9\t*********\t8IBIBC@EI\r\n",
      "chr9\t106007101\tN\t9\t*********\t8IBIBC@EI\r\n"
     ]
    }
   ],
   "execution_count": 5
  },
  {
   "cell_type": "code",
   "metadata": {
    "id": "GUdB31wAIL0K",
    "ExecuteTime": {
     "end_time": "2025-05-21T12:19:15.143601Z",
     "start_time": "2025-05-21T12:19:14.827233Z"
    }
   },
   "source": [
    "!awk '$2 >= 106056039 && $2 <= 106056126 { print $0; }' CLIP-let7g.pileup > CLIP-let7g-gene.pileup\n",
    "!tail CLIP-let7g-gene.pileup"
   ],
   "outputs": [
    {
     "name": "stdout",
     "output_type": "stream",
     "text": [
      "chr9\t106056117\tN\t140\t<<<<<<<<<CCCCCCCCCCCCCCCCCCCCCCCCCCCCCCCCCCCCCCCCCCCCCCCCCCCCCCCCCCCCCCCCCCCCCCCCCCCCCCCCCCCCCCCCCCCCCCCCCCCCCCCCCCCCCCCCCCCCCCCCCCCCCCCCCCC\tBHEIG?DIIHGHII:;HGIIDGGGIIBGEB?>H<GGIIIIDIIGFHIHH9IGG=GGHIDH?DGIBIIHHGGIEIGI8GIDHD#G.GGHEDIIDIDGDHIDGIFGHG;DCDDHEE@I?CGG:IHGIBGIHIIDG@DHIG+G\r\n",
      "chr9\t106056118\tN\t140\t<<<<<<<<<CCCCCCCCCCCCCCCCCCCCCCCCCCCCCCCCCCCCCCCCCCCCCCCCCCCCCCCCCCCCCCCCCCCCCCCCCCCCCCCCCCCCCCCCCCCCCCCCCCCCCCCCCCCCCCCCCCCCCCCCCCCCCCCCCCC\tBHEIG?DIIHGHII3AHIIIDGGGIIB3EHFBH>GIIIIIIIIIHIIHHAIIGBDGHIDH?GIIGIIHHDIIHIGIGGI=BG#G9GIHHHIIGI=IAIIGGIEHGIEBG@DHDE;IBDGG4IGGIGGIIIIGGGDGIH1G\r\n",
      "chr9\t106056119\tN\t140\t<<<<<<<<<TTTTTTTTTTTTTTTTTTTTTTTTTT$TTTT$TTTTTTTTTTTTTTT$TTTT$TTTTTTT$TTTTTTTTTTTTTTTTTTTTTTTTTTTTTTTTTTTTTTTTTTTTTTTTTTTTTTTTTTTTTTTTTTTTTTTTTTT\tBHEIG?DIIGEFII:/GIIEDDHDIIF>BH3<HBEGIHIGFIIIBIIBE:HHGD>EGGDH7BIIGGIHHDHIHDEIGEIDHG#G;GIHGHHIGD:I,GHD:GGEHH?3G87HD</I=DGG=IHHIHBIFII@<HDHHH1G\r\n",
      "chr9\t106056120\tN\t135\t<<<<<<<<<TTTTTTTTTTTTTTTTTTTTTTTTTTTT$TTTT$TTT$TTTTTTTTTT$TTTTTTTT$TTTTTTTTTTTT$T$TTTTTTTT$TTTT$TT$TTTTTTTTTTTTTTTTTTT$TTTTTTTTTTTTTTTTTTTTTTTTTTT\tBHEIG?DIIHFBII74BIIIGDIIIIA8DHECHBIIIIIIIIHIIHB?IDGGGFDH?GIIIIHH@GHHGEDDGIEHB#E-DIHHGIIGI:HBII8DIIHHIBDD;<HDD3HB?@G?HHIIHIIIIIB@HDHDH8G\r\n",
      "chr9\t106056121\tN\t124\t<<<<<<<<<GGGGGGGGGGGGGGGGGGTGG$G$G$G$G$G$G$G$GGGGGG$GG$GGGG$GG$GGGG$G$GGG$GGG$GGG$GGGGG$GGGGGG$GGGGGGGGG$GGGGGG$GGG$GGG$GGGGG$GGGG$G$GG$GGGGGG$GGGG$G$G$G$G$G$\tBHEIG?DIIB<EDI/7BHHFB<FGHI3+?GG>HAIHIFEF@H<<2>D3EE;HBAIIIBH4IHG@DI>,G4#82GGFHID:I9II@BH@>HE8,@;<HG-I-:GGBIDEIBIGIIIE?G@EIH7G\r\n",
      "chr9\t106056122\tN\t90\t<<<<<<<<<C$C$C$C$C$C$C$C$C$C$C$C$C$CCCCCC$C$C$C$C$C$C$CCC$C$C$C$CC$C$CC$CC$C$C$C$C$C$C$C$C$C$C$C$C$C$C$CC$C$C$C$C$C$CC$CC$C$CCC$C$C$C$C$CCCCCC$CCC$C\tBHEIG?DIIEEGIIC;GIHEGBIIIIB1=FII?FEIGGGHDBIG=HHIIEBH#D>EIHIG=I:HGBIIEF?E;DB3HB<G#IHIHHEADF\r\n",
      "chr9\t106056123\tN\t32\t<<<<<<<<<CCCCCCCCCCCCCCCCCCCCCCC\tBHEIG?DIIIIII>GIGGIGGD>B#IHHHIEH\r\n",
      "chr9\t106056124\tN\t32\t<<<<<<<<<AAAAAAAAAAAAAAAAAAAAAAA\tBHEIG?DIIIIHIGGIGGGIG:9D#DBIEGFH\r\n",
      "chr9\t106056125\tN\t32\t<<<<<<<<<GGGGGGGGGGGGGGGGGGGGGGG\tBHEIG?DIIIIIIGGE@GFIGD;G#IGIIFHD\r\n",
      "chr9\t106056126\tN\t32\t<<<<<<<<<GGGGGGGGGGGGGGGGGGGGGGG\tBHEIG?DIIIIGHGHIGHI>G,;G#GGIGIHG\r\n"
     ]
    }
   ],
   "execution_count": 6
  },
  {
   "cell_type": "markdown",
   "metadata": {
    "id": "CNEWC4t_MA__"
   },
   "source": [
    "이제 pandas에 불러와서 분석해 봅니다. R을 쓰시는 분들은 R로 보내서 작업하셔도 됩니다."
   ]
  },
  {
   "cell_type": "code",
   "metadata": {
    "id": "PWq1ItOxILxa",
    "ExecuteTime": {
     "end_time": "2025-05-21T12:19:28.475967Z",
     "start_time": "2025-05-21T12:19:26.887725Z"
    }
   },
   "source": [
    "import pandas as pd\n",
    "\n",
    "pileup = pd.read_csv('CLIP-let7g-gene.pileup', sep='\\t', names=['chrom', 'pos', '_ref', 'count', 'basereads', 'quals'])\n",
    "pileup.tail()"
   ],
   "outputs": [
    {
     "data": {
      "text/plain": [
       "   chrom        pos _ref  count  \\\n",
       "83  chr9  106056122    N     90   \n",
       "84  chr9  106056123    N     32   \n",
       "85  chr9  106056124    N     32   \n",
       "86  chr9  106056125    N     32   \n",
       "87  chr9  106056126    N     32   \n",
       "\n",
       "                                            basereads  \\\n",
       "83  <<<<<<<<<C$C$C$C$C$C$C$C$C$C$C$C$C$CCCCCC$C$C$...   \n",
       "84                   <<<<<<<<<CCCCCCCCCCCCCCCCCCCCCCC   \n",
       "85                   <<<<<<<<<AAAAAAAAAAAAAAAAAAAAAAA   \n",
       "86                   <<<<<<<<<GGGGGGGGGGGGGGGGGGGGGGG   \n",
       "87                   <<<<<<<<<GGGGGGGGGGGGGGGGGGGGGGG   \n",
       "\n",
       "                                                quals  \n",
       "83  BHEIG?DIIEEGIIC;GIHEGBIIIIB1=FII?FEIGGGHDBIG=H...  \n",
       "84                   BHEIG?DIIIIII>GIGGIGGD>B#IHHHIEH  \n",
       "85                   BHEIG?DIIIIHIGGIGGGIG:9D#DBIEGFH  \n",
       "86                   BHEIG?DIIIIIIGGE@GFIGD;G#IGIIFHD  \n",
       "87                   BHEIG?DIIIIGHGHIGHI>G,;G#GGIGIHG  "
      ],
      "text/html": [
       "<div>\n",
       "<style scoped>\n",
       "    .dataframe tbody tr th:only-of-type {\n",
       "        vertical-align: middle;\n",
       "    }\n",
       "\n",
       "    .dataframe tbody tr th {\n",
       "        vertical-align: top;\n",
       "    }\n",
       "\n",
       "    .dataframe thead th {\n",
       "        text-align: right;\n",
       "    }\n",
       "</style>\n",
       "<table border=\"1\" class=\"dataframe\">\n",
       "  <thead>\n",
       "    <tr style=\"text-align: right;\">\n",
       "      <th></th>\n",
       "      <th>chrom</th>\n",
       "      <th>pos</th>\n",
       "      <th>_ref</th>\n",
       "      <th>count</th>\n",
       "      <th>basereads</th>\n",
       "      <th>quals</th>\n",
       "    </tr>\n",
       "  </thead>\n",
       "  <tbody>\n",
       "    <tr>\n",
       "      <th>83</th>\n",
       "      <td>chr9</td>\n",
       "      <td>106056122</td>\n",
       "      <td>N</td>\n",
       "      <td>90</td>\n",
       "      <td>&lt;&lt;&lt;&lt;&lt;&lt;&lt;&lt;&lt;C$C$C$C$C$C$C$C$C$C$C$C$C$CCCCCC$C$C$...</td>\n",
       "      <td>BHEIG?DIIEEGIIC;GIHEGBIIIIB1=FII?FEIGGGHDBIG=H...</td>\n",
       "    </tr>\n",
       "    <tr>\n",
       "      <th>84</th>\n",
       "      <td>chr9</td>\n",
       "      <td>106056123</td>\n",
       "      <td>N</td>\n",
       "      <td>32</td>\n",
       "      <td>&lt;&lt;&lt;&lt;&lt;&lt;&lt;&lt;&lt;CCCCCCCCCCCCCCCCCCCCCCC</td>\n",
       "      <td>BHEIG?DIIIIII&gt;GIGGIGGD&gt;B#IHHHIEH</td>\n",
       "    </tr>\n",
       "    <tr>\n",
       "      <th>85</th>\n",
       "      <td>chr9</td>\n",
       "      <td>106056124</td>\n",
       "      <td>N</td>\n",
       "      <td>32</td>\n",
       "      <td>&lt;&lt;&lt;&lt;&lt;&lt;&lt;&lt;&lt;AAAAAAAAAAAAAAAAAAAAAAA</td>\n",
       "      <td>BHEIG?DIIIIHIGGIGGGIG:9D#DBIEGFH</td>\n",
       "    </tr>\n",
       "    <tr>\n",
       "      <th>86</th>\n",
       "      <td>chr9</td>\n",
       "      <td>106056125</td>\n",
       "      <td>N</td>\n",
       "      <td>32</td>\n",
       "      <td>&lt;&lt;&lt;&lt;&lt;&lt;&lt;&lt;&lt;GGGGGGGGGGGGGGGGGGGGGGG</td>\n",
       "      <td>BHEIG?DIIIIIIGGE@GFIGD;G#IGIIFHD</td>\n",
       "    </tr>\n",
       "    <tr>\n",
       "      <th>87</th>\n",
       "      <td>chr9</td>\n",
       "      <td>106056126</td>\n",
       "      <td>N</td>\n",
       "      <td>32</td>\n",
       "      <td>&lt;&lt;&lt;&lt;&lt;&lt;&lt;&lt;&lt;GGGGGGGGGGGGGGGGGGGGGGG</td>\n",
       "      <td>BHEIG?DIIIIGHGHIGHI&gt;G,;G#GGIGIHG</td>\n",
       "    </tr>\n",
       "  </tbody>\n",
       "</table>\n",
       "</div>"
      ]
     },
     "execution_count": 7,
     "metadata": {},
     "output_type": "execute_result"
    }
   ],
   "execution_count": 7
  },
  {
   "cell_type": "markdown",
   "metadata": {
    "id": "DOM-v48vMTQ-"
   },
   "source": [
    "여기서 pileup에서 계산에 사용할 것은 match와 substitution만입니다. 나머지에 해당하는 tag들은 제거합니다.\n",
    "\n",
    "R을 쓰시는 분들은 R로 보내서 작업하셔도 됩니다."
   ]
  },
  {
   "cell_type": "code",
   "metadata": {
    "id": "qm25CsvBILug",
    "ExecuteTime": {
     "end_time": "2025-05-21T12:19:34.685283Z",
     "start_time": "2025-05-21T12:19:34.681156Z"
    }
   },
   "source": [
    "import re\n",
    "toremove = re.compile('[<>$*#^]')\n",
    "pileup['matches'] = pileup['basereads'].apply(lambda x: toremove.sub('', x))"
   ],
   "outputs": [],
   "execution_count": 8
  },
  {
   "cell_type": "code",
   "metadata": {
    "id": "uXYF___MILrK",
    "ExecuteTime": {
     "end_time": "2025-05-21T12:19:36.663003Z",
     "start_time": "2025-05-21T12:19:36.655656Z"
    }
   },
   "source": [
    "pileup[['chrom', 'pos', 'matches']]"
   ],
   "outputs": [
    {
     "data": {
      "text/plain": [
       "   chrom        pos                                            matches\n",
       "0   chr9  106056039                                                   \n",
       "1   chr9  106056040                                                   \n",
       "2   chr9  106056041                                                   \n",
       "3   chr9  106056042                                                   \n",
       "4   chr9  106056043                                                   \n",
       "..   ...        ...                                                ...\n",
       "83  chr9  106056122  CCCCCCCCCCCCCCCCCCCCCCCCCCCCCCCCCCCCCCCCCCCCCC...\n",
       "84  chr9  106056123                            CCCCCCCCCCCCCCCCCCCCCCC\n",
       "85  chr9  106056124                            AAAAAAAAAAAAAAAAAAAAAAA\n",
       "86  chr9  106056125                            GGGGGGGGGGGGGGGGGGGGGGG\n",
       "87  chr9  106056126                            GGGGGGGGGGGGGGGGGGGGGGG\n",
       "\n",
       "[88 rows x 3 columns]"
      ],
      "text/html": [
       "<div>\n",
       "<style scoped>\n",
       "    .dataframe tbody tr th:only-of-type {\n",
       "        vertical-align: middle;\n",
       "    }\n",
       "\n",
       "    .dataframe tbody tr th {\n",
       "        vertical-align: top;\n",
       "    }\n",
       "\n",
       "    .dataframe thead th {\n",
       "        text-align: right;\n",
       "    }\n",
       "</style>\n",
       "<table border=\"1\" class=\"dataframe\">\n",
       "  <thead>\n",
       "    <tr style=\"text-align: right;\">\n",
       "      <th></th>\n",
       "      <th>chrom</th>\n",
       "      <th>pos</th>\n",
       "      <th>matches</th>\n",
       "    </tr>\n",
       "  </thead>\n",
       "  <tbody>\n",
       "    <tr>\n",
       "      <th>0</th>\n",
       "      <td>chr9</td>\n",
       "      <td>106056039</td>\n",
       "      <td></td>\n",
       "    </tr>\n",
       "    <tr>\n",
       "      <th>1</th>\n",
       "      <td>chr9</td>\n",
       "      <td>106056040</td>\n",
       "      <td></td>\n",
       "    </tr>\n",
       "    <tr>\n",
       "      <th>2</th>\n",
       "      <td>chr9</td>\n",
       "      <td>106056041</td>\n",
       "      <td></td>\n",
       "    </tr>\n",
       "    <tr>\n",
       "      <th>3</th>\n",
       "      <td>chr9</td>\n",
       "      <td>106056042</td>\n",
       "      <td></td>\n",
       "    </tr>\n",
       "    <tr>\n",
       "      <th>4</th>\n",
       "      <td>chr9</td>\n",
       "      <td>106056043</td>\n",
       "      <td></td>\n",
       "    </tr>\n",
       "    <tr>\n",
       "      <th>...</th>\n",
       "      <td>...</td>\n",
       "      <td>...</td>\n",
       "      <td>...</td>\n",
       "    </tr>\n",
       "    <tr>\n",
       "      <th>83</th>\n",
       "      <td>chr9</td>\n",
       "      <td>106056122</td>\n",
       "      <td>CCCCCCCCCCCCCCCCCCCCCCCCCCCCCCCCCCCCCCCCCCCCCC...</td>\n",
       "    </tr>\n",
       "    <tr>\n",
       "      <th>84</th>\n",
       "      <td>chr9</td>\n",
       "      <td>106056123</td>\n",
       "      <td>CCCCCCCCCCCCCCCCCCCCCCC</td>\n",
       "    </tr>\n",
       "    <tr>\n",
       "      <th>85</th>\n",
       "      <td>chr9</td>\n",
       "      <td>106056124</td>\n",
       "      <td>AAAAAAAAAAAAAAAAAAAAAAA</td>\n",
       "    </tr>\n",
       "    <tr>\n",
       "      <th>86</th>\n",
       "      <td>chr9</td>\n",
       "      <td>106056125</td>\n",
       "      <td>GGGGGGGGGGGGGGGGGGGGGGG</td>\n",
       "    </tr>\n",
       "    <tr>\n",
       "      <th>87</th>\n",
       "      <td>chr9</td>\n",
       "      <td>106056126</td>\n",
       "      <td>GGGGGGGGGGGGGGGGGGGGGGG</td>\n",
       "    </tr>\n",
       "  </tbody>\n",
       "</table>\n",
       "<p>88 rows × 3 columns</p>\n",
       "</div>"
      ]
     },
     "execution_count": 9,
     "metadata": {},
     "output_type": "execute_result"
    }
   ],
   "execution_count": 9
  },
  {
   "cell_type": "code",
   "metadata": {
    "id": "k55NUm9OILhw",
    "ExecuteTime": {
     "end_time": "2025-05-21T12:19:39.483738Z",
     "start_time": "2025-05-21T12:19:39.478784Z"
    }
   },
   "source": [
    "pileup[pileup['pos'] == 106056094].iloc[0]['matches']"
   ],
   "outputs": [
    {
     "data": {
      "text/plain": [
       "'GGGGGGGAAAAAAAAGGGGGAAAAAAGCCGCAGGATGAGGTGATAAGGGAGGGGTGAAGGGCGGTGAAGGGGAAAAGAGAAAGAAAAATAAAGGGGGAGTGGGAGGAAGAAGAGAATA'"
      ]
     },
     "execution_count": 10,
     "metadata": {},
     "output_type": "execute_result"
    }
   ],
   "execution_count": 10
  },
  {
   "cell_type": "markdown",
   "source": [
    "처리하는 도중에 matches에서 뜻밖의 예외상황이 있을 수 있습니다.\n",
    "예외상황 중 결과에 영향을 미치지 않는 패턴은 미리 제거하고 처리하면 편리합니다."
   ],
   "metadata": {
    "id": "vx_LUBFuLR6-"
   }
  },
  {
   "cell_type": "markdown",
   "metadata": {
    "id": "NrgJiS2iRhIn"
   },
   "source": [
    "자 이제 데이터 준비가 대충 끝났습니다. 다음 순서로 진행해 보세요. (1-4번 단계는 R을 쓰시는 분들은 R로 보내서 작업하셔도 됩니다.)\n",
    "\n",
    "1. 각 position별로 base수를 셉니다.\n",
    "1. 각 position별로 Shannon entropy를 계산합니다.\n",
    "1. 계산한 Shannon entropy를 [bedgraph format](https://genome.ucsc.edu/goldenPath/help/bedgraph.html)으로 출력합니다. 말은 복잡해도 실제로는 간단합니다. 4칸짜리를 만드시면 됩니다.\n",
    "1. 결과 파일을 본인의 Google Drive에서 가져옵니다.\n",
    "1. [UCSC Genome Browser](http://genome.ucsc.edu/cgi-bin/hgTracks?db=mm39&lastVirtModeType=default&lastVirtModeExtraState=&virtModeType=default&virtMode=0&nonVirtPosition=&position=chr9%3A106056039-106056126)에 접속해서 Genome은 mm39로 선택합니다.\n",
    "1. 그래프 아랫쪽의 add custom tracks 버튼을 누릅니다.\n",
    "1. Paste URLs or data 옆의 Choose File 버튼을 누르고 우리가 만든 bedgraph 파일을 업로드 합니다.\n",
    "1. 그리고 이리 저리 감상해 보다가 View 메뉴의 PDF/PS 를 눌러서 인증샷을 한 번 찍습니다.\n",
    "1. Mirlet7d와 Mirlet7f-1도 한 번 해 봅니다."
   ]
  },
  {
   "cell_type": "code",
   "source": [
    "import re\n",
    "\n",
    "def clean_matches(seq):\n",
    "    # Step 1: Remove indels like +2TT, -1A, etc.\n",
    "    seq = re.sub(r'[\\+\\-](\\d+)[ACGTNacgtn]+', '', seq)\n",
    "    # Step 2: Remove ^. (start of read and mapping quality)\n",
    "    seq = re.sub(r'\\^.', '', seq)\n",
    "    # Step 3: Remove special chars like $ (end of read), * (deletion), and other markers\n",
    "    seq = re.sub(r'[\\$\\*\\>\\<\\#]', '', seq)\n",
    "    return seq"
   ],
   "metadata": {
    "id": "_onzef2-Mr9_",
    "ExecuteTime": {
     "end_time": "2025-05-21T12:26:04.173231Z",
     "start_time": "2025-05-21T12:26:04.167245Z"
    }
   },
   "outputs": [],
   "execution_count": 11
  },
  {
   "metadata": {
    "ExecuteTime": {
     "end_time": "2025-05-21T12:26:16.647380Z",
     "start_time": "2025-05-21T12:26:16.642709Z"
    }
   },
   "cell_type": "code",
   "source": "pileup['cleaned_matches'] = pileup['matches'].apply(clean_matches)",
   "outputs": [],
   "execution_count": 12
  },
  {
   "metadata": {
    "ExecuteTime": {
     "end_time": "2025-05-21T12:27:01.017447Z",
     "start_time": "2025-05-21T12:27:00.996100Z"
    }
   },
   "cell_type": "code",
   "source": [
    "# 각 position 별 base 수 세\n",
    "from collections import Counter\n",
    "\n",
    "def count_bases(seq):\n",
    "    counts = Counter(seq.upper())\n",
    "    return {base: counts.get(base, 0) for base in ['A', 'T', 'G', 'C']}\n",
    "\n",
    "pileup[['A', 'T', 'G', 'C']] = pileup['cleaned_matches'].apply(lambda x: pd.Series(count_bases(x)))"
   ],
   "outputs": [],
   "execution_count": 13
  },
  {
   "metadata": {
    "ExecuteTime": {
     "end_time": "2025-05-21T12:27:37.529057Z",
     "start_time": "2025-05-21T12:27:37.498601Z"
    }
   },
   "cell_type": "code",
   "source": [
    "# Shannon entropy calculation\n",
    "import numpy as np\n",
    "\n",
    "def shannon_entropy(row):\n",
    "    total = row[['A', 'T', 'G', 'C']].sum()\n",
    "    if total == 0:\n",
    "        return 0\n",
    "    probs = row[['A', 'T', 'G', 'C']] / total\n",
    "    entropy = -np.sum([p * np.log2(p) for p in probs if p > 0])\n",
    "    return entropy\n",
    "\n",
    "pileup['entropy'] = pileup.apply(shannon_entropy, axis=1)"
   ],
   "outputs": [],
   "execution_count": 14
  },
  {
   "metadata": {
    "ExecuteTime": {
     "end_time": "2025-05-21T12:28:06.352537Z",
     "start_time": "2025-05-21T12:28:06.338105Z"
    }
   },
   "cell_type": "code",
   "source": [
    "# bedgraph format \n",
    "with open(\"CLIP-let7g-entropy.bedgraph\", \"w\") as f:\n",
    "    f.write(\"track type=bedGraph name=\\\"let7g_entropy\\\" description=\\\"Shannon entropy for Mirlet7g\\\"\\n\")\n",
    "    for _, row in pileup.iterrows():\n",
    "        start = int(row['pos']) - 1  # bedGraph는 0-based 시작, 1-based 끝\n",
    "        end = int(row['pos'])\n",
    "        entropy = row['entropy']\n",
    "        f.write(f\"chr9\\t{start}\\t{end}\\t{entropy:.4f}\\n\")"
   ],
   "outputs": [],
   "execution_count": 15
  },
  {
   "metadata": {
    "ExecuteTime": {
     "end_time": "2025-05-21T12:45:26.509184Z",
     "start_time": "2025-05-21T12:45:16.481400Z"
    }
   },
   "cell_type": "code",
   "source": [
    "# Mirlet7d\n",
    "!grep -i mirlet7d ../colab-biolab/binfo1-datapack1/gencode.gtf"
   ],
   "outputs": [
    {
     "name": "stdout",
     "output_type": "stream",
     "text": [
      "chr13\tENSEMBL\tgene\t48689488\t48689590\t.\t-\t.\tgene_id \"ENSMUSG00000065453.3\"; gene_type \"miRNA\"; gene_name \"Mirlet7d\"; level 3; mgi_id \"MGI:2676796\";\r\n",
      "chr13\tENSEMBL\ttranscript\t48689488\t48689590\t.\t-\t.\tgene_id \"ENSMUSG00000065453.3\"; transcript_id \"ENSMUST00000083519.3\"; gene_type \"miRNA\"; gene_name \"Mirlet7d\"; transcript_type \"miRNA\"; transcript_name \"Mirlet7d-201\"; level 3; transcript_support_level \"NA\"; mgi_id \"MGI:2676796\"; tag \"basic\";\r\n",
      "chr13\tENSEMBL\texon\t48689488\t48689590\t.\t-\t.\tgene_id \"ENSMUSG00000065453.3\"; transcript_id \"ENSMUST00000083519.3\"; gene_type \"miRNA\"; gene_name \"Mirlet7d\"; transcript_type \"miRNA\"; transcript_name \"Mirlet7d-201\"; exon_number 1; exon_id \"ENSMUSE00000522678.2\"; level 3; transcript_support_level \"NA\"; mgi_id \"MGI:2676796\"; tag \"basic\";\r\n"
     ]
    }
   ],
   "execution_count": 17
  },
  {
   "metadata": {
    "ExecuteTime": {
     "end_time": "2025-05-21T12:49:04.034724Z",
     "start_time": "2025-05-21T12:49:03.409086Z"
    }
   },
   "cell_type": "code",
   "source": [
    "!samtools view -b -o CLIP-let7d.bam ../colab-biolab/binfo1-datapack1/CLIP-35L33G.bam chr13:48689488-48689590\n",
    "!samtools view CLIP-let7d.bam | wc -l\n",
    "!samtools mpileup CLIP-let7d.bam > CLIP-let7d.pileup\n",
    "!wc -l CLIP-let7d.pileup\n",
    "!head CLIP-let7d.pileup"
   ],
   "outputs": [
    {
     "name": "stdout",
     "output_type": "stream",
     "text": [
      "     187\r\n",
      "[mpileup] 1 samples in 1 input files\r\n",
      "<mpileup> Set max per-file depth to 8000\r\n",
      "      87 CLIP-let7d.pileup\r\n",
      "chr13\t48689488\tN\t26\t^Ga^Ia^Ha^Ia^Ha^Ia^Ia^Da^Ia^Ga^Ia^Ia^Ia^Ia^Ia^Ha^Ia^Ga^Ga^Ga^Ia^Ea^Ga^Da^Ha^Ga\tBIHGGIH#IEIIIGIHIGEGH5#BDD\r\n",
      "chr13\t48689489\tN\t54\taaaaaaaaaaaaaaaaaaaaaaaaaa^Ia^Ha^Ia^Ga^Ga^Ha^Ia^Ia^Ga^Ga^Ia^Ia^Ha^Ia^Ia^Ha^Ha^Da^Ia^Ha^Ia^Ia^Ia^Ia^Ia^Ha^Ga^Ga\tGIHIGII#IEIIIIIHIG>EB4@5HDIHIBEGIID?IIGII@H>IGHIIIGHDC\r\n",
      "chr13\t48689490\tN\t70\ttttttttttttttttttttttttttttttttttttttttttttttttttttttt^Gt^Gt^Ht^Gt^It^It^Ht^It^Gt^Gt^Ht^It^It^It^Ht^It\tGIHIGHI#FFIIIIIFHGEDG;2>FDIHIDGBIIDBIIDIIAH>IBGIIIGHBG=BG=IIGIDGHFIIHI\r\n",
      "chr13\t48689491\tN\t107\taaaaaaaaaaaaaaaaaaaaaaaaaaaaaaaaaaaaaaaaaaaaaaaaaaaaaaaaaaaaaaaaaaaaaa^Ia^Ia^Ha^Ga^Ia^Ga^Ia^Ga^Ha^Ha^Ha^Ga^Ia^Ha^Da^Ha^Ia^@a^Ia^Ia^Ia^Ga^Ha^Ha^Ga^Ha^Ga^Ia^Ha^Ga^Ia^Ga^Ha^Ga^Ia^Ia^Ga\tEIGHEHH#IEIIIIIHIGCBH:?>HGGHI>GBIIGBIIGIHBB;IHIIIIGHDC3=G:IGGIDEHIFIGHII=GIDHEGHHEIG#GI7III9=HGBAIGBIGFG>I2\r\n",
      "chr13\t48689492\tN\t107\taaaaaaaaaaaaaaaaaaaaaaaaaaaaaaaaaaaaaaaaaaaaaaaaaaaaaaaaaaaaaaaaaaaaaaaaaaaaaaaaaaaaaaaaaaaaaaaaaaaaaaaaaaa\tGIGIEIE#I7IIIGIGIG;?F:D@G7GHIAGAIIG3IIGIHDB2IHIIIIDDGC1<GCIIHIGCHIIIEIIIGCIBIEGHH?HH#FI9IIIA=GGB?IEGIFEGGIA\r\n",
      "chr13\t48689493\tN\t107\tggggggggggggggggggggggggggggggggggggggggggggggggggggggggggggggggggggggggggggggggggggggggggggggggggggggggggg\tBIEIGHG#I7IHHGIGHG=?F58>E5EHIAGAHIDAHIGII:EDHHIHIIGG>>5EDAIIFFGDHIIHGIII8EIDIBBHHBIG#HI7HII?=GGBEIG>HFEGGIA\r\n",
      "chr13\t48689494\tN\t107\tggggggggggggggggggggggggggggggggggggggggggggggggggggggggggggggggggggggggggggggggggggggggggggggggggggggggggg\tFIFEGIF#E3HFIGIGHG=?D1?@D5EHIAEADIBFIIGHIBD<IHDGIIGBD>03GEEIHF@DHIIIDIIHEAIDIC>HHBHF#DI9FIIE=GGBAIGEFEEGIIA\r\n",
      "chr13\t48689495\tN\t107\tccccccccccccccccccccccccccccccccccccccccccccccccccccccccccccccccccccccccccccccccccccccccccccccccccccccccccc\tGID>GHE#G.HIHGH>IG2;B;?>E0BCI8G?FGA?HH@HIB?DHBIIIHGBG9'0BAEIEF8CEDIHGIIHGAI?I3BGH;HH#HE7IIIA=GG:?IFEBF2GBI;\r\n",
      "chr13\t48689496\tN\t107\tccccccccccccccccccccccccccccccccccccccccccccccccccccccccccccccccccccccccccccccccccccccccccccccccccccccccccc\tFI8EEGE#I.GEB<ID>G38B19>B+FFI<D<FGAEFIGDFB@@CH>EHH8B7>+BDCEEEBBCHBGEEFHIG?I;IG@HH2EE#GI9IIIA)>;<@IE<E:CDIG<\r\n",
      "chr13\t48689497\tN\t107\tccccccccccccccccccccccccccccccccccccccccccccccccccccccccccccccccccccccccccccccccccccccccccccccccccccccccccc\tDIHFBIF#G.HIIFIGIB3;B993E:IGHAGDIDC3IIHDIBD,HBIIIII>;58?A>IIEHBAHBHIGHIEFBI0BG<HHEEG#DG.III?7H?>3IE<H8EDGG?\r\n"
     ]
    }
   ],
   "execution_count": 21
  },
  {
   "metadata": {
    "ExecuteTime": {
     "end_time": "2025-05-21T12:51:08.038464Z",
     "start_time": "2025-05-21T12:51:07.729607Z"
    }
   },
   "cell_type": "code",
   "source": [
    "!awk '$2 >= 48689488 && $2 <= 48689590 { print $0; }' CLIP-let7d.pileup > CLIP-let7d-gene.pileup\n",
    "!tail CLIP-let7d-gene.pileup"
   ],
   "outputs": [
    {
     "name": "stdout",
     "output_type": "stream",
     "text": [
      "chr13\t48689565\tN\t6\tcccccc\t>IGIIH\r\n",
      "chr13\t48689566\tN\t6\ttttttt\t:IGFIH\r\n",
      "chr13\t48689567\tN\t6\taaaaaa\t8IFIFI\r\n",
      "chr13\t48689568\tN\t6\tcccccc\t?IGIII\r\n",
      "chr13\t48689569\tN\t6\ttttttt\t;IGIII\r\n",
      "chr13\t48689570\tN\t6\taaaaaa\t,EDECD\r\n",
      "chr13\t48689571\tN\t6\tcccccc\t:GGIGG\r\n",
      "chr13\t48689572\tN\t6\tcccccc\t:GGIGG\r\n",
      "chr13\t48689573\tN\t6\ttttttt\t5GGIGG\r\n",
      "chr13\t48689574\tN\t6\tc$c$c$c$c$c$\t;GGIGG\r\n"
     ]
    }
   ],
   "execution_count": 22
  },
  {
   "metadata": {
    "ExecuteTime": {
     "end_time": "2025-05-21T12:55:19.346805Z",
     "start_time": "2025-05-21T12:55:19.325100Z"
    }
   },
   "cell_type": "code",
   "source": [
    "import pandas as pd\n",
    "pileup = pd.read_csv('CLIP-let7d-gene.pileup', sep='\\t', names=['chrom', 'pos', '_ref', 'count', 'basereads', 'quals'])\n",
    "pileup.tail()\n",
    "\n",
    "import re\n",
    "toremove = re.compile('[<>$*#^]')\n",
    "pileup['matches'] = pileup['basereads'].apply(lambda x: toremove.sub('', x))\n",
    "pileup[['chrom', 'pos', 'matches']]"
   ],
   "outputs": [
    {
     "data": {
      "text/plain": [
       "    chrom       pos                                            matches\n",
       "0   chr13  48689488  GaIaHaIaHaIaIaDaIaGaIaIaIaIaIaHaIaGaGaGaIaEaGa...\n",
       "1   chr13  48689489  aaaaaaaaaaaaaaaaaaaaaaaaaaIaHaIaGaGaHaIaIaGaGa...\n",
       "2   chr13  48689490  tttttttttttttttttttttttttttttttttttttttttttttt...\n",
       "3   chr13  48689491  aaaaaaaaaaaaaaaaaaaaaaaaaaaaaaaaaaaaaaaaaaaaaa...\n",
       "4   chr13  48689492  aaaaaaaaaaaaaaaaaaaaaaaaaaaaaaaaaaaaaaaaaaaaaa...\n",
       "..    ...       ...                                                ...\n",
       "82  chr13  48689570                                             aaaaaa\n",
       "83  chr13  48689571                                             cccccc\n",
       "84  chr13  48689572                                             cccccc\n",
       "85  chr13  48689573                                             tttttt\n",
       "86  chr13  48689574                                             cccccc\n",
       "\n",
       "[87 rows x 3 columns]"
      ],
      "text/html": [
       "<div>\n",
       "<style scoped>\n",
       "    .dataframe tbody tr th:only-of-type {\n",
       "        vertical-align: middle;\n",
       "    }\n",
       "\n",
       "    .dataframe tbody tr th {\n",
       "        vertical-align: top;\n",
       "    }\n",
       "\n",
       "    .dataframe thead th {\n",
       "        text-align: right;\n",
       "    }\n",
       "</style>\n",
       "<table border=\"1\" class=\"dataframe\">\n",
       "  <thead>\n",
       "    <tr style=\"text-align: right;\">\n",
       "      <th></th>\n",
       "      <th>chrom</th>\n",
       "      <th>pos</th>\n",
       "      <th>matches</th>\n",
       "    </tr>\n",
       "  </thead>\n",
       "  <tbody>\n",
       "    <tr>\n",
       "      <th>0</th>\n",
       "      <td>chr13</td>\n",
       "      <td>48689488</td>\n",
       "      <td>GaIaHaIaHaIaIaDaIaGaIaIaIaIaIaHaIaGaGaGaIaEaGa...</td>\n",
       "    </tr>\n",
       "    <tr>\n",
       "      <th>1</th>\n",
       "      <td>chr13</td>\n",
       "      <td>48689489</td>\n",
       "      <td>aaaaaaaaaaaaaaaaaaaaaaaaaaIaHaIaGaGaHaIaIaGaGa...</td>\n",
       "    </tr>\n",
       "    <tr>\n",
       "      <th>2</th>\n",
       "      <td>chr13</td>\n",
       "      <td>48689490</td>\n",
       "      <td>tttttttttttttttttttttttttttttttttttttttttttttt...</td>\n",
       "    </tr>\n",
       "    <tr>\n",
       "      <th>3</th>\n",
       "      <td>chr13</td>\n",
       "      <td>48689491</td>\n",
       "      <td>aaaaaaaaaaaaaaaaaaaaaaaaaaaaaaaaaaaaaaaaaaaaaa...</td>\n",
       "    </tr>\n",
       "    <tr>\n",
       "      <th>4</th>\n",
       "      <td>chr13</td>\n",
       "      <td>48689492</td>\n",
       "      <td>aaaaaaaaaaaaaaaaaaaaaaaaaaaaaaaaaaaaaaaaaaaaaa...</td>\n",
       "    </tr>\n",
       "    <tr>\n",
       "      <th>...</th>\n",
       "      <td>...</td>\n",
       "      <td>...</td>\n",
       "      <td>...</td>\n",
       "    </tr>\n",
       "    <tr>\n",
       "      <th>82</th>\n",
       "      <td>chr13</td>\n",
       "      <td>48689570</td>\n",
       "      <td>aaaaaa</td>\n",
       "    </tr>\n",
       "    <tr>\n",
       "      <th>83</th>\n",
       "      <td>chr13</td>\n",
       "      <td>48689571</td>\n",
       "      <td>cccccc</td>\n",
       "    </tr>\n",
       "    <tr>\n",
       "      <th>84</th>\n",
       "      <td>chr13</td>\n",
       "      <td>48689572</td>\n",
       "      <td>cccccc</td>\n",
       "    </tr>\n",
       "    <tr>\n",
       "      <th>85</th>\n",
       "      <td>chr13</td>\n",
       "      <td>48689573</td>\n",
       "      <td>tttttt</td>\n",
       "    </tr>\n",
       "    <tr>\n",
       "      <th>86</th>\n",
       "      <td>chr13</td>\n",
       "      <td>48689574</td>\n",
       "      <td>cccccc</td>\n",
       "    </tr>\n",
       "  </tbody>\n",
       "</table>\n",
       "<p>87 rows × 3 columns</p>\n",
       "</div>"
      ]
     },
     "execution_count": 25,
     "metadata": {},
     "output_type": "execute_result"
    }
   ],
   "execution_count": 25
  },
  {
   "metadata": {
    "ExecuteTime": {
     "end_time": "2025-05-21T13:04:16.938047Z",
     "start_time": "2025-05-21T13:04:16.880595Z"
    }
   },
   "cell_type": "code",
   "source": [
    "import re\n",
    "\n",
    "def clean_matches(seq):\n",
    "    seq = re.sub(r'[\\+\\-](\\d+)[ACGTNacgtn]+', '', seq)\n",
    "    seq = re.sub(r'\\^.', '', seq)\n",
    "    seq = re.sub(r'[\\$\\*\\>\\<\\#]', '', seq)\n",
    "    return seq\n",
    "pileup['cleaned_matches'] = pileup['matches'].apply(clean_matches)\n",
    "\n",
    "from collections import Counter\n",
    "\n",
    "def count_bases(seq):\n",
    "    counts = Counter(seq.upper())\n",
    "    return {base: counts.get(base, 0) for base in ['A', 'T', 'G', 'C']}\n",
    "pileup[['A', 'T', 'G', 'C']] = pileup['cleaned_matches'].apply(lambda x: pd.Series(count_bases(x)))\n",
    "\n",
    "import numpy as np\n",
    "\n",
    "def shannon_entropy(row):\n",
    "    total = row[['A', 'T', 'G', 'C']].sum()\n",
    "    if total == 0:\n",
    "        return 0\n",
    "    probs = row[['A', 'T', 'G', 'C']] / total\n",
    "    entropy = -np.sum([p * np.log2(p) for p in probs if p > 0])\n",
    "    return entropy\n",
    "pileup['entropy'] = pileup.apply(shannon_entropy, axis=1)\n",
    "\n",
    "with open(\"CLIP-let7d-entropy.bedgraph\", \"w\") as f:\n",
    "    f.write(\"track type=bedGraph name=\\\"let7d_entropy\\\" description=\\\"Shannon entropy for Mirlet7d\\\"\\n\")\n",
    "    for _, row in pileup.iterrows():\n",
    "        start = int(row['pos']) - 1\n",
    "        end = int(row['pos'])\n",
    "        entropy = row['entropy']\n",
    "        f.write(f\"chr13\\t{start}\\t{end}\\t{entropy:.4f}\\n\")"
   ],
   "outputs": [],
   "execution_count": 26
  },
  {
   "metadata": {
    "ExecuteTime": {
     "end_time": "2025-05-21T13:06:28.413026Z",
     "start_time": "2025-05-21T13:06:18.251020Z"
    }
   },
   "cell_type": "code",
   "source": [
    "# #Mirlet7f-1\n",
    "!grep -i mirlet7f-1 ../colab-biolab/binfo1-datapack1/gencode.gtf"
   ],
   "outputs": [
    {
     "name": "stdout",
     "output_type": "stream",
     "text": [
      "chr13\tENSEMBL\tgene\t48691305\t48691393\t.\t-\t.\tgene_id \"ENSMUSG00000105621.3\"; gene_type \"miRNA\"; gene_name \"Mirlet7f-1\"; level 3; mgi_id \"MGI:2676798\";\r\n",
      "chr13\tENSEMBL\ttranscript\t48691305\t48691393\t.\t-\t.\tgene_id \"ENSMUSG00000105621.3\"; transcript_id \"ENSMUST00000198652.3\"; gene_type \"miRNA\"; gene_name \"Mirlet7f-1\"; transcript_type \"miRNA\"; transcript_name \"Mirlet7f-1-201\"; level 3; transcript_support_level \"NA\"; mgi_id \"MGI:2676798\"; tag \"basic\";\r\n",
      "chr13\tENSEMBL\texon\t48691305\t48691393\t.\t-\t.\tgene_id \"ENSMUSG00000105621.3\"; transcript_id \"ENSMUST00000198652.3\"; gene_type \"miRNA\"; gene_name \"Mirlet7f-1\"; transcript_type \"miRNA\"; transcript_name \"Mirlet7f-1-201\"; exon_number 1; exon_id \"ENSMUSE00001348852.2\"; level 3; transcript_support_level \"NA\"; mgi_id \"MGI:2676798\"; tag \"basic\";\r\n"
     ]
    }
   ],
   "execution_count": 27
  },
  {
   "metadata": {
    "ExecuteTime": {
     "end_time": "2025-05-21T13:07:03.746177Z",
     "start_time": "2025-05-21T13:07:03.110609Z"
    }
   },
   "cell_type": "code",
   "source": [
    "!samtools view -b -o CLIP-let7f-1.bam ../colab-biolab/binfo1-datapack1/CLIP-35L33G.bam chr13:48691305-48691393\n",
    "!samtools view CLIP-let7f-1.bam | wc -l\n",
    "!samtools mpileup CLIP-let7f-1.bam > CLIP-let7f-1.pileup\n",
    "!wc -l CLIP-let7f-1.pileup\n",
    "!head CLIP-let7f-1.pileup"
   ],
   "outputs": [
    {
     "name": "stdout",
     "output_type": "stream",
     "text": [
      "     158\r\n",
      "[mpileup] 1 samples in 1 input files\r\n",
      "<mpileup> Set max per-file depth to 8000\r\n",
      "      97 CLIP-let7f-1.pileup\r\n",
      "chr13\t48691290\tN\t1\t^Gg\tA\r\n",
      "chr13\t48691291\tN\t26\tc^Hc^Ic^Dc^Hc^Gc^Ic^Gc^Ic^Gc^Ic^Ic^Hc^Hc^Hc^Ec^Ic^Ic^Ic^Hc^Hc^Hc^Ic^Ic^Ic^Hc\tDDI4G>I@H;GGGFH7IHIHHHFIIG\r\n",
      "chr13\t48691292\tN\t26\taaaaaaaaaaaaaaaaaaaaaaaaaa\tDGI)G>IBI?IIGHH7HIEHFFGHIG\r\n",
      "chr13\t48691293\tN\t38\tgggggggggggggggggggggggggg^Ig^Hg^Ig^Ig^Ig^Ig^Hg^Ig^Ig^Dg^Ig^Ig\tDGI4>AIGIBIIGGE/IIIDGHIIIHEGIHIIBIIBII\r\n",
      "chr13\t48691294\tN\t49\tcccccccccccccccccccccccccccccccccccccc^Ec^Hc^Ic^Hc^Hc^Gc^Ic^Ic^Gc^Ic^Hc\t?>I1E5IDG<I>EHH7IIIFHHEIHGCEDIHIEHG?II3BIDD7IHGGH\r\n",
      "chr13\t48691295\tN\t58\taaaaaaaaaaaaaaaaaaaaaaaaaaaaaaaaaaaaaaaaaaaaaaaaa^Ha^Ia^Ha^Ha^Ha^Ia^Ia^Ia^Ha\tBDI?HBIGHGIHGHG7IIIGBGIIIGBEFIIIBIH=II=EIGA6IHGIHDIHGGIII0\r\n",
      "chr13\t48691296\tN\t81\taaaaaaaaaaaaaaaaaaaaaaaaaaaaaaaaaaaaaaaaaaaaaaaaaaaaaaaaaa^Ia^Ia^Da^Ia^Ha^Ia^Ha^Ga^Ha^Ha^Ga^Ia^Ha^Ha^Ia^Ha^Ha^Ia^Ha^Ia^Ga^Ia^Ga\t<GI7H?IGIEIIGHG;FIIGGHIIIGIBGDIHGII@II9FHDA9IIGGHGIEGGIIIBEIBIHIG;DG?IBHICGIHI6I;\r\n",
      "chr13\t48691297\tN\t81\tggggggggggggggggggggggggggggggggggggggggggggggggggggggggggggggggggggggggggggggggg\t8EI.HBIGIGIGGHG1IIIGGGIIIEIBGGIIDII=II=FIGD5IIGDHDIHGGIGH@DIDGDIB1GGDIHGD=EHHG*H5\r\n",
      "chr13\t48691298\tN\t81\tttttttttttttttttttttttttttttttttttttttttttttttttttttttttttttttttttttttttttttttttt\t+GI4H7IGIGIIGHG7IHIGDHIGIGIBGGHIDIH@II?EIGG=IIGIHDGHG8IFH7DH@HHIG1GH9HDHI<GIDB.H/\r\n",
      "chr13\t48691299\tN\t81\tccccccccccccccccccccccccccccccccccccccccccccccccccccccccccccccccccccccccccccccccc\t<<I7H=I@I;IHGGG7HIIGGHGGHGFEBIEIDII=II:HIC><IIGIHGHGEGIII;HGBIHGD;GF<IGHICEIDI'I4\r\n"
     ]
    }
   ],
   "execution_count": 28
  },
  {
   "metadata": {
    "ExecuteTime": {
     "end_time": "2025-05-21T13:07:45.933671Z",
     "start_time": "2025-05-21T13:07:45.670262Z"
    }
   },
   "cell_type": "code",
   "source": [
    "!awk '$2 >= 48691305 && $2 <= 48691393 { print $0; }' CLIP-let7f-1.pileup > CLIP-let7f-1-gene.pileup\n",
    "!tail CLIP-let7f-1-gene.pileup"
   ],
   "outputs": [
    {
     "name": "stdout",
     "output_type": "stream",
     "text": [
      "chr13\t48691377\tN\t24\ttttttttttttttttttttttttt\tBIIGIGEDCGFIFGI@GHIDDIGI\r\n",
      "chr13\t48691378\tN\t24\taaaaaaaaaaaaaaaaaaaaaaaa\t?HIFIGGGAFEFABI>GII;EIGI\r\n",
      "chr13\t48691379\tN\t24\tcccccccccccccccccccccccc\tEIIGIGGDEGGIEGI;GIIDDIGI\r\n",
      "chr13\t48691380\tN\t24\ttttttttttttttttttttttttt\tEIIGIBGGEGFIFGI@GIIBDIGI\r\n",
      "chr13\t48691381\tN\t24\taaaaaaaaaaaaaaaaaaaaaaaa\tBEHFIGEG@FCEAGH4GII;AIDH\r\n",
      "chr13\t48691382\tN\t24\tcccccccccccccccccccccccc\t?IEGIHGG?GEGEBI=GIIDEIGG\r\n",
      "chr13\t48691383\tN\t24\tcccccccccccccccccccccccc\tEIGGIGGGAGFGFGI=GIIDGIGG\r\n",
      "chr13\t48691384\tN\t24\ttttttttttttttttttttttttt\t<IGGIHGG>GEGBGI8GII@GIGG\r\n",
      "chr13\t48691385\tN\t24\tcccccccccccccccccccccccc\tBIGGIBDD?GEGBEI=GIIBGIGG\r\n",
      "chr13\t48691386\tN\t24\ta$a$a$a$a$a$a$a$a$a$a$a$a$a$a$a$a$a$a$a$a$a$a$a$\tEIGGIFDECGFGFGI2BIIDGIGG\r\n"
     ]
    }
   ],
   "execution_count": 29
  },
  {
   "metadata": {
    "ExecuteTime": {
     "end_time": "2025-05-21T13:08:06.534179Z",
     "start_time": "2025-05-21T13:08:06.513736Z"
    }
   },
   "cell_type": "code",
   "source": [
    "import pandas as pd\n",
    "pileup = pd.read_csv('CLIP-let7f-1-gene.pileup', sep='\\t', names=['chrom', 'pos', '_ref', 'count', 'basereads', 'quals'])\n",
    "pileup.tail()\n",
    "\n",
    "import re\n",
    "toremove = re.compile('[<>$*#^]')\n",
    "pileup['matches'] = pileup['basereads'].apply(lambda x: toremove.sub('', x))\n",
    "pileup[['chrom', 'pos', 'matches']]"
   ],
   "outputs": [
    {
     "data": {
      "text/plain": [
       "    chrom       pos                                            matches\n",
       "0   chr13  48691305  cccccccccccccccccccccccccccccccccccccccccccccc...\n",
       "1   chr13  48691306  tttttttttttttttttttttttttttttttttttttttttttttt...\n",
       "2   chr13  48691307  cccccccccccccccccccccccccccccccccccccccccccccc...\n",
       "3   chr13  48691308  aaaaaaaaaaaaaaaaaaaaaaaaaaaaaaaaaaaaaaaaaaaaaa...\n",
       "4   chr13  48691309  gggggggggggggggggggggggggggggggggggggggggggggg...\n",
       "..    ...       ...                                                ...\n",
       "77  chr13  48691382                           cccccccccccccccccccccccc\n",
       "78  chr13  48691383                           cccccccccccccccccccccccc\n",
       "79  chr13  48691384                           tttttttttttttttttttttttt\n",
       "80  chr13  48691385                           cccccccccccccccccccccccc\n",
       "81  chr13  48691386                           aaaaaaaaaaaaaaaaaaaaaaaa\n",
       "\n",
       "[82 rows x 3 columns]"
      ],
      "text/html": [
       "<div>\n",
       "<style scoped>\n",
       "    .dataframe tbody tr th:only-of-type {\n",
       "        vertical-align: middle;\n",
       "    }\n",
       "\n",
       "    .dataframe tbody tr th {\n",
       "        vertical-align: top;\n",
       "    }\n",
       "\n",
       "    .dataframe thead th {\n",
       "        text-align: right;\n",
       "    }\n",
       "</style>\n",
       "<table border=\"1\" class=\"dataframe\">\n",
       "  <thead>\n",
       "    <tr style=\"text-align: right;\">\n",
       "      <th></th>\n",
       "      <th>chrom</th>\n",
       "      <th>pos</th>\n",
       "      <th>matches</th>\n",
       "    </tr>\n",
       "  </thead>\n",
       "  <tbody>\n",
       "    <tr>\n",
       "      <th>0</th>\n",
       "      <td>chr13</td>\n",
       "      <td>48691305</td>\n",
       "      <td>cccccccccccccccccccccccccccccccccccccccccccccc...</td>\n",
       "    </tr>\n",
       "    <tr>\n",
       "      <th>1</th>\n",
       "      <td>chr13</td>\n",
       "      <td>48691306</td>\n",
       "      <td>tttttttttttttttttttttttttttttttttttttttttttttt...</td>\n",
       "    </tr>\n",
       "    <tr>\n",
       "      <th>2</th>\n",
       "      <td>chr13</td>\n",
       "      <td>48691307</td>\n",
       "      <td>cccccccccccccccccccccccccccccccccccccccccccccc...</td>\n",
       "    </tr>\n",
       "    <tr>\n",
       "      <th>3</th>\n",
       "      <td>chr13</td>\n",
       "      <td>48691308</td>\n",
       "      <td>aaaaaaaaaaaaaaaaaaaaaaaaaaaaaaaaaaaaaaaaaaaaaa...</td>\n",
       "    </tr>\n",
       "    <tr>\n",
       "      <th>4</th>\n",
       "      <td>chr13</td>\n",
       "      <td>48691309</td>\n",
       "      <td>gggggggggggggggggggggggggggggggggggggggggggggg...</td>\n",
       "    </tr>\n",
       "    <tr>\n",
       "      <th>...</th>\n",
       "      <td>...</td>\n",
       "      <td>...</td>\n",
       "      <td>...</td>\n",
       "    </tr>\n",
       "    <tr>\n",
       "      <th>77</th>\n",
       "      <td>chr13</td>\n",
       "      <td>48691382</td>\n",
       "      <td>cccccccccccccccccccccccc</td>\n",
       "    </tr>\n",
       "    <tr>\n",
       "      <th>78</th>\n",
       "      <td>chr13</td>\n",
       "      <td>48691383</td>\n",
       "      <td>cccccccccccccccccccccccc</td>\n",
       "    </tr>\n",
       "    <tr>\n",
       "      <th>79</th>\n",
       "      <td>chr13</td>\n",
       "      <td>48691384</td>\n",
       "      <td>tttttttttttttttttttttttt</td>\n",
       "    </tr>\n",
       "    <tr>\n",
       "      <th>80</th>\n",
       "      <td>chr13</td>\n",
       "      <td>48691385</td>\n",
       "      <td>cccccccccccccccccccccccc</td>\n",
       "    </tr>\n",
       "    <tr>\n",
       "      <th>81</th>\n",
       "      <td>chr13</td>\n",
       "      <td>48691386</td>\n",
       "      <td>aaaaaaaaaaaaaaaaaaaaaaaa</td>\n",
       "    </tr>\n",
       "  </tbody>\n",
       "</table>\n",
       "<p>82 rows × 3 columns</p>\n",
       "</div>"
      ]
     },
     "execution_count": 30,
     "metadata": {},
     "output_type": "execute_result"
    }
   ],
   "execution_count": 30
  },
  {
   "metadata": {
    "ExecuteTime": {
     "end_time": "2025-05-21T13:08:38.470238Z",
     "start_time": "2025-05-21T13:08:38.430580Z"
    }
   },
   "cell_type": "code",
   "source": [
    "import re\n",
    "\n",
    "def clean_matches(seq):\n",
    "    seq = re.sub(r'[\\+\\-](\\d+)[ACGTNacgtn]+', '', seq)\n",
    "    seq = re.sub(r'\\^.', '', seq)\n",
    "    seq = re.sub(r'[\\$\\*\\>\\<\\#]', '', seq)\n",
    "    return seq\n",
    "pileup['cleaned_matches'] = pileup['matches'].apply(clean_matches)\n",
    "\n",
    "from collections import Counter\n",
    "\n",
    "def count_bases(seq):\n",
    "    counts = Counter(seq.upper())\n",
    "    return {base: counts.get(base, 0) for base in ['A', 'T', 'G', 'C']}\n",
    "pileup[['A', 'T', 'G', 'C']] = pileup['cleaned_matches'].apply(lambda x: pd.Series(count_bases(x)))\n",
    "\n",
    "import numpy as np\n",
    "\n",
    "def shannon_entropy(row):\n",
    "    total = row[['A', 'T', 'G', 'C']].sum()\n",
    "    if total == 0:\n",
    "        return 0\n",
    "    probs = row[['A', 'T', 'G', 'C']] / total\n",
    "    entropy = -np.sum([p * np.log2(p) for p in probs if p > 0])\n",
    "    return entropy\n",
    "pileup['entropy'] = pileup.apply(shannon_entropy, axis=1)\n",
    "\n",
    "with open(\"CLIP-let7f-1-entropy.bedgraph\", \"w\") as f:\n",
    "    f.write(\"track type=bedGraph name=\\\"let7f-1_entropy\\\" description=\\\"Shannon entropy for Mirlet7f-1\\\"\\n\")\n",
    "    for _, row in pileup.iterrows():\n",
    "        start = int(row['pos']) - 1\n",
    "        end = int(row['pos'])\n",
    "        entropy = row['entropy']\n",
    "        f.write(f\"chr13\\t{start}\\t{end}\\t{entropy:.4f}\\n\")"
   ],
   "outputs": [],
   "execution_count": 31
  }
 ]
}
