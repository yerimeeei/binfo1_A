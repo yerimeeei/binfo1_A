{
 "nbformat": 4,
 "nbformat_minor": 0,
 "metadata": {
  "colab": {
   "provenance": []
  },
  "kernelspec": {
   "name": "python3",
   "display_name": "Python 3 (ipykernel)",
   "language": "python"
  }
 },
 "cells": [
  {
   "cell_type": "markdown",
   "metadata": {
    "id": "_SmTogjeMD47"
   },
   "source": [
    "# 생물정보학 및 실습 1 - Term Project용 Mission 2 환경 셋업"
   ]
  },
  {
   "cell_type": "markdown",
   "metadata": {
    "id": "o7NwoWdnMuHS"
   },
   "source": [
    "```\n",
    "생물정보학 및 실습 1\n",
    "서울대학교 생물정보학전공/생명과학부 2025년 1학기\n",
    "\n",
    "이 노트북은 Creative Commons BY-SA 조건으로 재사용 가능합니다.\n",
    "장혜식 <hyeshik@snu.ac.kr>, 서울대학교 생명과학부\n",
    "```\n",
    "\n",
    "이 노트북은 Google Colab을 이용해서 Term Project를 할 수 있도록 환경을 준비해 줍니다. 터미널 사용이 원활하지 않은 상태이고, 데이터를 오랫동안 보관하기 어렵기 때문에 되도록 개인용 컴퓨터에서 [Anaconda](https://www.anaconda.com/)나 [JupyterLab](https://jupyterlab.readthedocs.io/en/stable/) 등을 설치하고 사용하시는 것이 편하지만, 개인용 컴퓨터 사양이 부족한 경우에는 Google CoLab을 사용할 수도 있습니다. 개인용 컴퓨터를 쓸 때는 Windows에서는 [WSL2](https://docs.microsoft.com/en-us/windows/wsl/install-win10)를 쓰시면 리눅스 커맨드라인 환경을 쓸 수 있습니다. Google Colab은 창을 닫은 후 90분 후, 또는 창을 처음 열고 12시간 후에 환경을 닫아버리기 때문에 매번 실습할 때마다 새로 셋업이 필요합니다. `Runtime->Run All`을 실행해서 전체를 한 번 실행하시면 준비됩니다. 모든 것이 잘 안 되고 뭔가 꼬인 느낌이 강하게 들 때는 `Runtime->Factory reset runtime`을 누르고 새로 시작하시면 될 수도 있습니다.\n"
   ]
  },
  {
   "cell_type": "markdown",
   "metadata": {
    "id": "O4ofnSipMuHa"
   },
   "source": [
    "## Google Drive 마운트\n",
    "\n",
    "데이터 파일들을 불러오고 저장하기 위해서 Google Drive를 연결합니다. 화면에 나오는 주소를 눌러서 인증하고 인증 코드를 그 아래에 입력하세요. 그러면 `/contents/drive/MyDrive`에서 자신의 Drive 최상단 폴더가 보입니다. Google CoLab에서 접속하지 않고, 본인 컴퓨터 또는 연구실 워크스테이션 등 다른 컴퓨터를 쓰시는 경우에는 저장공간이 충분하므로 이 부분은 생략하고 지나갑니다."
   ]
  },
  {
   "cell_type": "code",
   "metadata": {
    "id": "2kWbS8JWMuHa"
   },
   "source": [
    "from google.colab import drive\n",
    "drive.mount('/content/drive')"
   ],
   "execution_count": null,
   "outputs": []
  },
  {
   "cell_type": "markdown",
   "metadata": {
    "id": "xQZGShwEMuHa"
   },
   "source": [
    "## 실습용 Bioconda 환경 설치하기\n",
    "Google CoLab에서 접속하지 않고, 본인 컴퓨터 또는 연구실 워크스테이션 등 다른 컴퓨터를 쓰시는 경우에는 따로 실습용 [Bioconda](https://bioconda.github.io/) 환경을 구축해서 이 노트북을 그 환경 안에서 띄우시면 됩니다.\n",
    "\n",
    "CoLab을 쓰시는 분들은 다음에 따라서 실습용 프로그램들을 쉽게 설치할 수 있도록 [Bioconda](https://bioconda.github.io/) 환경을 만듭니다. 실행하고 진행상황을 관찰하다가 에러로 보이는 것이 있으면 잘 읽어보고 해결합니다.\n",
    "\n",
    "파이썬 모듈들은 Colab쪽의 파이썬 인터프리터를 바꿀 수 없기 때문에 Conda에 설치하더라도 사용하기 어렵습니다. 파이썬 모듈은 `pip` 명령어로 설치하시면 Colab에서 불러와서 사용할 수 있습니다.\n",
    "\n",
    "환경 초기화에 관련된 스크립트는 [GitHub 프로젝트](https://github.com/hyeshik/colab-biolab)에 있습니다."
   ]
  },
  {
   "cell_type": "code",
   "metadata": {
    "id": "_i5ZwVHUMuHb"
   },
   "source": [
    "!git clone https://github.com/hyeshik/colab-biolab.git\n",
    "!cd colab-biolab && bash tools/setup.sh\n",
    "exec(open('colab-biolab/tools/activate_conda.py').read())"
   ],
   "execution_count": null,
   "outputs": []
  },
  {
   "cell_type": "markdown",
   "metadata": {
    "id": "3Sabp7OAMuHb"
   },
   "source": [
    "설정이 끝났으면, 이제 콘솔을 열어서 터미널로 접속할 수 있는 통로를 열어줍니다."
   ]
  },
  {
   "cell_type": "markdown",
   "metadata": {
    "id": "z6RiPiSRMuHb"
   },
   "source": [
    "## 시퀀싱 데이터 다운로드\n",
    "***첫 실습 시간에 데이터 복사를 마쳤으면 이 부분은 생략하고 지나갑니다.***\n",
    "\n",
    "이제 실습 수업에서 필요한 시퀀싱 데이터를 다운로드 받아서 설치합시다. 드라이브 공간만 충분하면 데이터는 계속 저장돼 있기 때문에 학기 전체를 통해서 딱 한 번만 하시면 됩니다. Colab에서는 작업용 데이터를 Google Drive 폴더 아래의 `binfo-datapack1`에 저장합니다. 실습용 데이터는 `/content/drive/MyDrive/binfo1-datapack1`에 풀리게 됩니다.\n",
    "\n",
    "### (Option 1) Google CoLab에서 접속한 경우\n",
    "1. [Google Drive 공유폴더](https://drive.google.com/drive/folders/1QBJednh-C7A17PFOlpZHBKyDmBvd6klh?usp=sharing)에 접속합니다.\n",
    "1. 중간 제목줄의 \"binfo1-datapack1 ▾\"에서 ▾을 누릅니다.\n",
    "1. Add shortcut to Drive를 누릅니다.\n",
    "1. My Drive를 선택해서 ADD SHORTCUT 버튼을 누릅니다.\n",
    "1. 다음 cell을 실행해서 링크가 제대로 들어왔는지 확인합니다. (바로 확인되지 않으면 3–5분 정도 기다렸다가 하면 됩니다.)\n",
    "1. 제대로 확인되면 다음으로 넘어갑니다.\n"
   ]
  },
  {
   "cell_type": "code",
   "source": [
    "!ls -al /content/drive/MyDrive/binfo1-datapack1/"
   ],
   "metadata": {
    "id": "D24wKYriG8tI"
   },
   "execution_count": null,
   "outputs": []
  },
  {
   "cell_type": "markdown",
   "source": [
    "### (Option 2) CoLab외의 다른 환경에서 접속한 경우\n",
    "본인 컴퓨터나 연구실 워크스테이션 등에서 작업하는 경우에는 다음 명령어로 다운로드 받으시면 됩니다. 첫 번째에는 wget이 접속오류를 내는 경우가 많으니, 접속에러가 발생하면 다시 한 번 실행해 보세요. `/content/drive/Mydrive` 부분은 원하는 저장 경로로 바꿔서 지정하시면 됩니다."
   ],
   "metadata": {
    "id": "OZ0KkKrmG-M4"
   }
  },
  {
   "cell_type": "code",
   "metadata": {
    "id": "LnLWxOljMuHb"
   },
   "source": [
    "!wget -O - --no-check-certificate https://hyeshik.qbio.io/binfo/binfo1-datapack1.tar | tar -C /content/drive/MyDrive -xf -"
   ],
   "execution_count": null,
   "outputs": []
  },
  {
   "cell_type": "markdown",
   "metadata": {
    "id": "jfQRBt3eMuHc"
   },
   "source": [
    "그리고, GENCODE Annotation 데이터도 미리 받아서 저장해 둡니다. 에러가 나면 다시 한 번 실행해 봅니다."
   ]
  },
  {
   "cell_type": "code",
   "metadata": {
    "id": "o3vbErniMuHc"
   },
   "source": [
    "!wget --no-check-certificate -O /content/drive/MyDrive/binfo1-datapack1/gencode.gtf.gz http://ftp.ebi.ac.uk/pub/databases/gencode/Gencode_mouse/release_M27/gencode.vM27.annotation.gtf.gz"
   ],
   "execution_count": null,
   "outputs": []
  },
  {
   "cell_type": "markdown",
   "metadata": {
    "id": "cEsuYjeoMuHc"
   },
   "source": [
    "다루기 쉽도록 Annotation 압축을 풉니다."
   ]
  },
  {
   "cell_type": "code",
   "metadata": {
    "id": "47_i6FbYMuHc"
   },
   "source": [
    "!gunzip /content/drive/MyDrive/binfo1-datapack1/gencode.gtf.gz"
   ],
   "execution_count": null,
   "outputs": []
  },
  {
   "cell_type": "markdown",
   "metadata": {
    "id": "LRmsio_KMuHc"
   },
   "source": [
    "### 파일 체크섬 확인\n",
    "\n",
    "***첫 실습 시간에 데이터 복사를 마쳤으면 이 부분은 생략하고 지나갑니다.***\n",
    "\n",
    "받은 데이터의 MD5 체크섬을 확인합니다. 한참 걸립니다. 각 파일들의 원래 체크섬은 다음과 같습니다. 한 번 비교해 보세요.\n",
    "\n",
    "```\n",
    "140aaf30bcb9276cc716f8699f04ddd6  CLIP-35L33G.bam\n",
    "f1b3336ed7e2f97d562dcc71641251bd  CLIP-35L33G.bam.bai\n",
    "328883a73d507eafbf5b60bd6b906201  RNA-control.bam\n",
    "02073818e2f398a73c3b76e5169de1ca  RNA-control.bam.bai\n",
    "b09550d09d6c2a4ce27f0226f426fdb1  RNA-siLin28a.bam\n",
    "fef112c727244060ea62d3f2564a07f6  RNA-siLin28a.bam.bai\n",
    "28bbd0c47d725669340c784f1b772c01  RNA-siLuc.bam\n",
    "43590fdc4d81905c0432e0d1cb8cfd5b  RNA-siLuc.bam.bai\n",
    "5c08a9297307bc83259e658c4474f0cc  RPF-siLin28a.bam\n",
    "a1bb3e29be412dfd7fd8d16b1b1acc4c  RPF-siLin28a.bam.bai\n",
    "f2eebf50943024d0116c9cd3e744c707  RPF-siLuc.bam\n",
    "dc24f69e8f571fc8be30f28ce5b84fcd  RPF-siLuc.bam.bai\n",
    "```"
   ]
  },
  {
   "cell_type": "code",
   "metadata": {
    "id": "g8lC_YJRBCPf"
   },
   "source": [
    "!md5sum drive/MyDrive/binfo1-datapack1/*"
   ],
   "execution_count": null,
   "outputs": []
  },
  {
   "cell_type": "code",
   "metadata": {
    "id": "PVXzIs5FE3Q4"
   },
   "source": [
    "!ls -al drive/MyDrive/binfo*"
   ],
   "execution_count": null,
   "outputs": []
  },
  {
   "cell_type": "markdown",
   "source": [
    "# 파일 복사하기\n",
    "**첫 시간에 파일을 복사해 두었으면 이 부분은 생략하고 다음으로 넘어갑니다.**\n",
    "\n",
    "공유한 폴더를 나의 작업 폴더로 복사합니다."
   ],
   "metadata": {
    "id": "mI3qWMY-KHdC"
   }
  },
  {
   "cell_type": "code",
   "source": [
    "!mkdir -p /content/drive/MyDrive/binfo1-work\n",
    "%cd /content/drive/MyDrive/binfo1-work\n",
    "!cp -f /content/drive/MyDrive/binfo1-datapack1/*.* /content/drive/MyDrive/binfo1-work/"
   ],
   "metadata": {
    "id": "vkK90WhtKWF7"
   },
   "execution_count": null,
   "outputs": []
  },
  {
   "cell_type": "markdown",
   "source": [
    "# 프로그램 설치\n",
    "\n",
    "**첫 실습 시간에 데이터 복사를 마쳤으면 여기부터 시작합니다.**\n",
    "\n",
    "데이터 준비가 끝났으면, 이제 이번 시간 실습에 필요한 프로그램들 몇 가지를 추가로 설치합니다."
   ],
   "metadata": {
    "id": "WnmAcefjKi2G"
   }
  },
  {
   "cell_type": "code",
   "metadata": {
    "id": "neteyWsWEKBy",
    "ExecuteTime": {
     "end_time": "2025-05-13T08:51:36.206377Z",
     "start_time": "2025-05-13T08:51:29.569753Z"
    }
   },
   "source": "!conda install -y bioconda::bedtools bioawk samtools",
   "outputs": [
    {
     "name": "stdout",
     "output_type": "stream",
     "text": [
      "Channels:\r\n",
      " - conda-forge\r\n",
      " - defaults\r\n",
      " - bioconda\r\n",
      "Platform: osx-arm64\r\n",
      "Collecting package metadata (repodata.json): done\r\n",
      "Solving environment: done\r\n",
      "\r\n",
      "## Package Plan ##\r\n",
      "\r\n",
      "  environment location: /Users/rimi/miniconda3/envs/biolab\r\n",
      "\r\n",
      "  added / updated specs:\r\n",
      "    - bioawk\r\n",
      "    - bioconda::bedtools\r\n",
      "    - samtools\r\n",
      "\r\n",
      "\r\n",
      "The following packages will be downloaded:\r\n",
      "\r\n",
      "    package                    |            build\r\n",
      "    ---------------------------|-----------------\r\n",
      "    bedtools-2.31.1            |       he85ad4a_3         743 KB  bioconda\r\n",
      "    bioawk-1.0                 |      hba9b596_13          77 KB  bioconda\r\n",
      "    samtools-0.1.18            |      h267f7b9_14         161 KB  bioconda\r\n",
      "    ------------------------------------------------------------\r\n",
      "                                           Total:         980 KB\r\n",
      "\r\n",
      "The following NEW packages will be INSTALLED:\r\n",
      "\r\n",
      "  bedtools           bioconda/osx-arm64::bedtools-2.31.1-he85ad4a_3 \r\n",
      "  bioawk             bioconda/osx-arm64::bioawk-1.0-hba9b596_13 \r\n",
      "  samtools           bioconda/osx-arm64::samtools-0.1.18-h267f7b9_14 \r\n",
      "  zlib               conda-forge/osx-arm64::zlib-1.3.1-h8359307_2 \r\n",
      "\r\n",
      "\r\n",
      "\r\n",
      "Downloading and Extracting Packages:\r\n",
      "bedtools-2.31.1      | 743 KB    |                                       |   0% \r\n",
      "samtools-0.1.18      | 161 KB    |                                       |   0% \u001B[A\r\n",
      "\r\n",
      "bioawk-1.0           | 77 KB     |                                       |   0% \u001B[A\u001B[A\r\n",
      "\r\n",
      "bioawk-1.0           | 77 KB     | #######7                              |  21% \u001B[A\u001B[A\r\n",
      "\r\n",
      "bedtools-2.31.1      | 743 KB    | 7                                     |   2% \u001B[A\u001B[A\r\n",
      "\r\n",
      "bedtools-2.31.1      | 743 KB    | ##################################### | 100% \u001B[A\u001B[A\r\n",
      "samtools-0.1.18      | 161 KB    | ###6                                  |  10% \u001B[A\r\n",
      "samtools-0.1.18      | 161 KB    | #########################7            |  70% \u001B[A\r\n",
      "samtools-0.1.18      | 161 KB    | ##################################### | 100% \u001B[A\r\n",
      "                                                                                \u001B[A\r\n",
      "                                                                                \u001B[A\r\n",
      "\r\n",
      "                                                                                \u001B[A\u001B[A\r\n",
      "Preparing transaction: done\r\n",
      "Verifying transaction: done\r\n",
      "Executing transaction: done\r\n"
     ]
    }
   ],
   "execution_count": 11
  },
  {
   "cell_type": "markdown",
   "metadata": {
    "id": "Oe_54MZrEi4y"
   },
   "source": [
    "## Mission 2\n",
    "\n",
    "이번 미션에서는 start codon 주변에서 ribosome-protected fragment의 분포를 한 번 살펴보겠습니다. 보통은 RPF의 5'-end 분포가 start codon 앞 15nt 정도에서부터 본격적으로 많이 나오고, 거기서부터 CDS를 걸쳐서 3nt 주기로 올록볼록한 패턴이 나타납니다.\n",
    "\n",
    "이 그림을 제대로 그리려면 genome coordinate를 start codon을 기준으로 변환해서 작업해야 하지만, 이번 미션에서는 난이도를 적절히 내리기 위해서 start codon이 포함된 exon에 존재하는 5' end만 추려서 작업하도록 합시다. (여유가 좀 있어서 난이도를 적당히 올리고 싶은 분들은 negative strand를 포함할 수도 있고, start codon과 다른 exon에 있는 경우를 포함할 수도 있습니다. 또한 APPRIS 등을 기반으로 해서 transcript 중에 가장 )"
   ]
  },
  {
   "cell_type": "code",
   "metadata": {
    "id": "IANz6DmLUkA6",
    "ExecuteTime": {
     "end_time": "2025-05-15T04:16:47.962362Z",
     "start_time": "2025-05-15T04:16:47.956778Z"
    }
   },
   "source": "%cd /Users/rimi/Projects/binfo1_A/binfo1-work/",
   "outputs": [
    {
     "name": "stdout",
     "output_type": "stream",
     "text": [
      "/Users/rimi/Projects/binfo1_A/binfo1-work\n"
     ]
    }
   ],
   "execution_count": 1
  },
  {
   "cell_type": "markdown",
   "metadata": {
    "id": "68uh7WVkUjhr"
   },
   "source": [
    "우선 annotation에서 start codon이 포함된 exon만 추립니다. Gene 한 개에 isoform이 여러 개 있는 경우 모두 쓰면 read가 너무 부풀려질 수 있기 때문에 우선 transcript support level이 1인 것만 추려서 사용합니다. 여전히 TSL 1만 쓰더라도 부풀려질 가능성은 있기 때문에 제대로 하자면 APPRIS나 RNA-seq 데이터 기준으로 하나만 선정하는 것이 좋습니다만, 일단 여기서는 간단히..\n",
    "\n",
    "그리고, - strand가 들어가면 좀 계산이 복잡해지니까 또 간단하게 하기 위해서 + strand만 고릅니다. 이번엔 일단 무조건 간단하게 해 봅시다~"
   ]
  },
  {
   "cell_type": "code",
   "metadata": {
    "id": "vvFgM8hJUzDx",
    "ExecuteTime": {
     "end_time": "2025-05-15T04:16:58.035597Z",
     "start_time": "2025-05-15T04:16:51.138706Z"
    }
   },
   "source": [
    "!grep '\tstart_codon\t.*\t+\t.*transcript_support_level \"1\"' ../colab-biolab/binfo1-datapack1/gencode.gtf | \\\n",
    " sed -e 's/\t[^\t]*transcript_id \"\\([^\"]*\\)\".*$/\t\\1/g' > gencode-start.gtf\n",
    "!head gencode-start.gtf"
   ],
   "outputs": [
    {
     "name": "stdout",
     "output_type": "stream",
     "text": [
      "chr1\tHAVANA\tstart_codon\t4878137\t4878139\t.\t+\t0\tENSMUST00000134384.8\r\n",
      "chr1\tHAVANA\tstart_codon\t4878137\t4878139\t.\t+\t0\tENSMUST00000027036.11\r\n",
      "chr1\tHAVANA\tstart_codon\t4878137\t4878139\t.\t+\t0\tENSMUST00000150971.8\r\n",
      "chr1\tHAVANA\tstart_codon\t4928137\t4928139\t.\t+\t0\tENSMUST00000081551.14\r\n",
      "chr1\tHAVANA\tstart_codon\t5154674\t5154676\t.\t+\t0\tENSMUST00000044369.13\r\n",
      "chr1\tHAVANA\tstart_codon\t5659272\t5659274\t.\t+\t0\tENSMUST00000160777.8\r\n",
      "chr1\tHAVANA\tstart_codon\t5659272\t5659274\t.\t+\t0\tENSMUST00000027038.11\r\n",
      "chr1\tHAVANA\tstart_codon\t6300227\t6300229\t.\t+\t0\tENSMUST00000027040.13\r\n",
      "chr1\tHAVANA\tstart_codon\t6429555\t6429557\t.\t+\t0\tENSMUST00000133144.4\r\n",
      "chr1\tHAVANA\tstart_codon\t6839122\t6839124\t.\t+\t0\tENSMUST00000140079.8\r\n"
     ]
    }
   ],
   "execution_count": 2
  },
  {
   "cell_type": "markdown",
   "metadata": {
    "id": "iWvIeTYOWsR6"
   },
   "source": [
    "start codon가 들어가 있는 exon들을 고르기 위해서 미리 + strand에 있는 exon를 추립니다.. start codon 쪽에서 TSL 기준으로 골랐기 때문에 여기서는 고르지 않아도 됩니다. 물론 좀 느려지기는 하지만..."
   ]
  },
  {
   "cell_type": "code",
   "metadata": {
    "id": "yCqK2wyYWitn",
    "ExecuteTime": {
     "end_time": "2025-05-15T04:17:10.103779Z",
     "start_time": "2025-05-15T04:17:00.063810Z"
    }
   },
   "source": [
    "# 아래 공백 중 일부는 \"탭(Tab)\" 문자입니다. 입력하기 힘들 때는 텍스트 편집기에서 입력해서 복사&붙여넣기 하면 됩니다.\n",
    "!grep '\texon\t.*\t+\t' ../colab-biolab/binfo1-datapack1/gencode.gtf | \\\n",
    " sed -e 's/\t[^\t]*transcript_id \"\\([^\"]*\\)\".*$/\t\\1/g' > gencode-plusexon.gtf\n",
    "!head gencode-plusexon.gtf"
   ],
   "outputs": [
    {
     "name": "stdout",
     "output_type": "stream",
     "text": [
      "chr1\tHAVANA\texon\t3143476\t3144545\t.\t+\t.\tENSMUST00000193812.2\r\n",
      "chr1\tENSEMBL\texon\t3172239\t3172348\t.\t+\t.\tENSMUST00000082908.3\r\n",
      "chr1\tHAVANA\texon\t3322980\t3323459\t.\t+\t.\tENSMUST00000192857.2\r\n",
      "chr1\tHAVANA\texon\t3536810\t3536910\t.\t+\t.\tENSMUST00000161581.2\r\n",
      "chr1\tHAVANA\texon\t3583628\t3583776\t.\t+\t.\tENSMUST00000161581.2\r\n",
      "chr1\tHAVANA\texon\t3602018\t3602943\t.\t+\t.\tENSMUST00000192183.2\r\n",
      "chr1\tHAVANA\texon\t3750378\t3752011\t.\t+\t.\tENSMUST00000193244.2\r\n",
      "chr1\tHAVANA\texon\t3822233\t3824583\t.\t+\t.\tENSMUST00000194454.2\r\n",
      "chr1\tHAVANA\texon\t4566774\t4569601\t.\t+\t.\tENSMUST00000193450.2\r\n",
      "chr1\tHAVANA\texon\t4567697\t4567877\t.\t+\t.\tENSMUST00000194935.2\r\n"
     ]
    }
   ],
   "execution_count": 3
  },
  {
   "cell_type": "markdown",
   "metadata": {
    "id": "suULe5k6Yelf"
   },
   "source": [
    "그 다음엔 exon 리스트와 start codon 리스트를 겹치고, transcript가 같은 것만 살려둡니다. 기왕 좀 다루기 쉽도록 출력은 bed로 하면서 좌표계를 바꿉니다. 결과는 bedtools에서 빠르게 다룰 수 있게 sort해 둡니다."
   ]
  },
  {
   "cell_type": "code",
   "metadata": {
    "id": "Zsv2_w5OXU9c",
    "ExecuteTime": {
     "end_time": "2025-05-15T04:17:12.849087Z",
     "start_time": "2025-05-15T04:17:12.046169Z"
    }
   },
   "source": [
    "# 아래 공백 중 일부는 \"탭(Tab)\" 문자입니다. 입력하기 힘들 때는 텍스트 편집기에서 입력해서 복사&붙여넣기 하면 됩니다.\n",
    "!bedtools intersect -a gencode-start.gtf -b gencode-plusexon.gtf -wa -wb | \\\n",
    " awk -F'\t' -v OFS='\t' '$9 == $18 { print $10, $13-1, $14, $18, $4-1, $16; }' | \\\n",
    " sort -k1,1 -k2,3n -k4,4 > gencode-exons-containing-startcodon.bed\n",
    "!head gencode-exons-containing-startcodon.bed; tail gencode-exons-containing-startcodon.bed"
   ],
   "outputs": [
    {
     "name": "stdout",
     "output_type": "stream",
     "text": [
      "chr1\t4878010\t4878205\tENSMUST00000134384.8\t4878136\t+\r\n",
      "chr1\t4878045\t4878205\tENSMUST00000027036.11\t4878136\t+\r\n",
      "chr1\t4878052\t4878205\tENSMUST00000150971.8\t4878136\t+\r\n",
      "chr1\t4928036\t4928199\tENSMUST00000081551.14\t4928136\t+\r\n",
      "chr1\t5154639\t5154786\tENSMUST00000044369.13\t5154673\t+\r\n",
      "chr1\t5659227\t5659528\tENSMUST00000027038.11\t5659271\t+\r\n",
      "chr1\t5659257\t5659528\tENSMUST00000160777.8\t5659271\t+\r\n",
      "chr1\t6300182\t6300297\tENSMUST00000027040.13\t6300226\t+\r\n",
      "chr1\t6429441\t6429738\tENSMUST00000133144.4\t6429554\t+\r\n",
      "chr1\t6839121\t6839176\tENSMUST00000043578.13\t6839121\t+\r\n",
      "chrY\t80939672\t80939804\tENSMUST00000185340.2\t80939686\t+\r\n",
      "chrY\t81470683\t81470815\tENSMUST00000187135.2\t81470697\t+\r\n",
      "chrY\t82237903\t82238035\tENSMUST00000185636.2\t82237917\t+\r\n",
      "chrY\t83043623\t83043755\tENSMUST00000187165.2\t83043637\t+\r\n",
      "chrY\t84109956\t84110088\tENSMUST00000185776.7\t84109970\t+\r\n",
      "chrY\t84759361\t84759493\tENSMUST00000186110.2\t84759375\t+\r\n",
      "chrY\t86074448\t86074580\tENSMUST00000188754.2\t86074462\t+\r\n",
      "chrY\t87129500\t87129632\tENSMUST00000189543.7\t87129514\t+\r\n",
      "chrY\t87563647\t87563779\tENSMUST00000186493.2\t87563661\t+\r\n",
      "chrY\t88065992\t88066124\tENSMUST00000187146.2\t88066006\t+\r\n"
     ]
    }
   ],
   "execution_count": 4
  },
  {
   "cell_type": "markdown",
   "metadata": {
    "id": "KvPNCpbtaYnC"
   },
   "source": [
    "컬럼 4번에 transcript id, 5번에 start codon 위치를 넣었는데, start codon이 같은 것들이 여러개 눈에 띕니다. 아주 찝찝하지만, 우선 이번은 간단하게 할 것이기 때문에 눈을 질끈 감고 넘어가 봅시다.\n",
    "\n",
    "이제 alignment를 준비합니다. + strand alignment에서 read length가 짧은 것도 미리 필터링 합니다. RPF는 보통 25nt 이상이기 때문에 그 이하는 거의 확실히 rRNA, tRNA 등에서 오염된 것들입니다. SAM 파일 전체를 필터링해서 다시 인코딩하기 때문에 시간이 좀 걸립니다.\n",
    "\n",
    "오래걸리는 작업을 돌릴 떄에는 CPU 사용량, 디스크 사용량을 계속 관찰하는 것이 좋습니다. 직접 접속할 수 있는 컴퓨터에서는 `htop` 등의 명령을 쓰면 되고, Colab에서는 오른쪽 위의 메뉴에서 Resources를 띄우면 되는데, 여기서는 CPU 사용량은 보기 힘듭니다."
   ]
  },
  {
   "cell_type": "code",
   "metadata": {
    "id": "ZZaOeHo1alCB",
    "ExecuteTime": {
     "end_time": "2025-05-15T04:34:51.238207Z",
     "start_time": "2025-05-15T04:33:34.741918Z"
    }
   },
   "source": [
    "# !(samtools view -H /Users/rimi/Projects/binfo1_A/colab-biolab/binfo1-datapack1/RPF-siLuc.bam; \\\n",
    "#   samtools view -F20 /Users/rimi/Projects/binfo1_A/colab-biolab/binfo1-datapack1/RPF-siLuc.bam | \\\n",
    "#   bioawk -c sam '{ if (length($seq) >= 25) print $0; }') | \\\n",
    "#  samtools view -b -o filtered-RPF-siLuc.bam\n",
    "!(samtools view -H /Users/rimi/Projects/binfo1_A/colab-biolab/binfo1-datapack1/RPF-siLuc.bam && \\\n",
    "samtools view -F 20 /Users/rimi/Projects/binfo1_A/colab-biolab/binfo1-datapack1/RPF-siLuc.bam | \\\n",
    "                 bioawk -c sam 'length($seq) >= 25') | \\\n",
    " samtools view -Sb - > filtered-RPF-siLuc.bam"
   ],
   "outputs": [
    {
     "name": "stdout",
     "output_type": "stream",
     "text": [
      "[samopen] SAM header is present: 61 sequences.\r\n"
     ]
    }
   ],
   "execution_count": 21
  },
  {
   "cell_type": "markdown",
   "metadata": {
    "id": "U1JDNb8ndTdk"
   },
   "source": [
    "큰 일을 했으니 용량을 한 번 봅니다."
   ]
  },
  {
   "cell_type": "code",
   "metadata": {
    "id": "5OrnDxegFAip",
    "ExecuteTime": {
     "end_time": "2025-05-15T04:34:56.695494Z",
     "start_time": "2025-05-15T04:34:56.560311Z"
    }
   },
   "source": [
    "!ls -al *RPF-siLuc.bam"
   ],
   "outputs": [
    {
     "name": "stdout",
     "output_type": "stream",
     "text": [
      "-rw-r--r--@ 1 rimi  staff   572757151 May 15 13:34 filtered-RPF-siLuc.bam\r\n",
      "-rw-r--r--@ 1 rimi  staff  1055123479 May  8 17:43 RPF-siLuc.bam\r\n"
     ]
    }
   ],
   "execution_count": 22
  },
  {
   "cell_type": "markdown",
   "metadata": {
    "id": "pr9zpKFmdi2e"
   },
   "source": [
    "자 이제 read의 5' end 위치를 셉니다. bedtools의 `genomecov`를 쓰면 아주 편리합니다."
   ]
  },
  {
   "cell_type": "code",
   "metadata": {
    "id": "IZjHau7zftoU",
    "ExecuteTime": {
     "end_time": "2025-05-15T04:35:20.840385Z",
     "start_time": "2025-05-15T04:35:00.781822Z"
    }
   },
   "source": [
    "!bedtools genomecov -ibam filtered-RPF-siLuc.bam -bg -5 > fivepcounts-RPF-siLuc.bed\n",
    "!head fivepcounts-RPF-siLuc.bed"
   ],
   "outputs": [
    {
     "name": "stdout",
     "output_type": "stream",
     "text": [
      "chr1\t3176534\t3176535\t1\r\n",
      "chr1\t3196256\t3196257\t1\r\n",
      "chr1\t3221526\t3221527\t1\r\n",
      "chr1\t3221542\t3221543\t2\r\n",
      "chr1\t3221545\t3221546\t3\r\n",
      "chr1\t3221546\t3221547\t2\r\n",
      "chr1\t3221548\t3221550\t1\r\n",
      "chr1\t3221571\t3221572\t1\r\n",
      "chr1\t3221897\t3221898\t1\r\n",
      "chr1\t3221994\t3221995\t1\r\n"
     ]
    }
   ],
   "execution_count": 23
  },
  {
   "cell_type": "markdown",
   "metadata": {
    "id": "y_AHnHnZmYJu"
   },
   "source": [
    "그렇게 match 된 것들 중에 앞에서 찾은 start codon을 포함한 exon과 겹치는 것만 골라냅니다."
   ]
  },
  {
   "cell_type": "code",
   "metadata": {
    "id": "k1cOiX2Hftlx",
    "ExecuteTime": {
     "end_time": "2025-05-15T04:39:13.488069Z",
     "start_time": "2025-05-15T04:39:12.478683Z"
    }
   },
   "source": [
    "!bedtools intersect -a fivepcounts-RPF-siLuc.bed -b gencode-exons-containing-startcodon.bed \\\n",
    " -wa -wb -nonamecheck > fivepcounts-filtered-RPF-siLuc.txt\n",
    "!head fivepcounts-filtered-RPF-siLuc.txt"
   ],
   "outputs": [
    {
     "name": "stdout",
     "output_type": "stream",
     "text": [
      "chr1\t4878048\t4878049\t1\tchr1\t4878010\t4878205\tENSMUST00000134384.8\t4878136\t+\r\n",
      "chr1\t4878048\t4878049\t1\tchr1\t4878045\t4878205\tENSMUST00000027036.11\t4878136\t+\r\n",
      "chr1\t4878077\t4878078\t1\tchr1\t4878010\t4878205\tENSMUST00000134384.8\t4878136\t+\r\n",
      "chr1\t4878077\t4878078\t1\tchr1\t4878045\t4878205\tENSMUST00000027036.11\t4878136\t+\r\n",
      "chr1\t4878077\t4878078\t1\tchr1\t4878052\t4878205\tENSMUST00000150971.8\t4878136\t+\r\n",
      "chr1\t4878101\t4878102\t4\tchr1\t4878010\t4878205\tENSMUST00000134384.8\t4878136\t+\r\n",
      "chr1\t4878101\t4878102\t4\tchr1\t4878045\t4878205\tENSMUST00000027036.11\t4878136\t+\r\n",
      "chr1\t4878101\t4878102\t4\tchr1\t4878052\t4878205\tENSMUST00000150971.8\t4878136\t+\r\n",
      "chr1\t4878103\t4878104\t1\tchr1\t4878010\t4878205\tENSMUST00000134384.8\t4878136\t+\r\n",
      "chr1\t4878103\t4878104\t1\tchr1\t4878045\t4878205\tENSMUST00000027036.11\t4878136\t+\r\n"
     ]
    }
   ],
   "execution_count": 24
  },
  {
   "cell_type": "markdown",
   "metadata": {
    "id": "0OcjYZ9bnL_6"
   },
   "source": [
    "모든 준비가 끝났습니다. 이제 Figure S5A 도전해 보세요!\n",
    "\n",
    "* stop codon은 빼고 start codon 만입니다.\n",
    "* 논문에서는 처리가 어려운 부분까지 모두 포함됐고, read를 중첩해서 세지 않았기 때문에, 여기서 세는 것과는 수치는 다를 수 있습니다.\n",
    "* `pandas`로 한꺼번에 데이터를 모두 불러들이면 메모리가 부족할 수도 있습니다. 그런 경우에는 chunk를 쓰거나, 줄 단위로 처리해 보세요."
   ]
  },
  {
   "cell_type": "code",
   "metadata": {
    "id": "aPPW73t4X3pp",
    "ExecuteTime": {
     "end_time": "2025-05-15T04:42:46.871589Z",
     "start_time": "2025-05-15T04:42:44.962494Z"
    }
   },
   "source": [
    "# 여기에 새로 코드를 작성해서 논문 그림과 비슷하게 만들어 봅시다.\n",
    "from collections import defaultdict\n",
    "import matplotlib.pyplot as plt\n",
    "\n",
    "position_counts = defaultdict(int)\n",
    "\n",
    "with open(\"fivepcounts-filtered-RPF-siLuc.txt\") as f:\n",
    "    for line in f:\n",
    "        fields = line.strip().split('\\t')\n",
    "        chrom, start, end, count = fields[0], int(fields[1]), int(fields[2]), int(fields[3])\n",
    "        tx_id = fields[7]\n",
    "        start_codon = int(fields[8])\n",
    "        strand = fields[9]\n",
    "        \n",
    "        if strand == '+':\n",
    "            rel_pos = start - start_codon\n",
    "        else:\n",
    "            rel_pos = start_codon - end\n",
    "            \n",
    "        if -50 <= rel_pos <= 50:\n",
    "            position_counts[rel_pos] += count\n",
    "\n",
    "x = list(range(-50, 51))\n",
    "y = [position_counts[i] for i in x]\n",
    "plt.figure(figsize=(10,5))\n",
    "plt.bar(x, y, color='black', width=1)\n",
    "plt.xlabel(\"Relative position to start codon of 5'-end of reads\")\n",
    "plt.ylabel(\"Raw read count\")\n",
    "plt.title(\"siLuc: Ribosome footprint near start codon\")\n",
    "plt.grid(True, linestyle='--', linewidth=0.5)\n",
    "plt.axvline(x=0, color='red', linestyle='-', linewidth=1)\n",
    "plt.show()"
   ],
   "outputs": [
    {
     "data": {
      "text/plain": [
       "<Figure size 1000x500 with 1 Axes>"
      ],
      "image/png": "[encoded data removed]"
     },
     "metadata": {},
     "output_type": "display_data"
    }
   ],
   "execution_count": 26
  }
 ]
}
